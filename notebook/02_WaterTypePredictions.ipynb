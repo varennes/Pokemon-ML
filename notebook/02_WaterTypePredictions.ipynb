{
 "cells": [
  {
   "cell_type": "code",
   "execution_count": 1,
   "metadata": {
    "collapsed": true
   },
   "outputs": [],
   "source": [
    "import pandas as pd\n",
    "import numpy as np\n",
    "import seaborn as sns\n",
    "import matplotlib.pyplot as plt\n",
    "\n",
    "% matplotlib inline"
   ]
  },
  {
   "cell_type": "code",
   "execution_count": 2,
   "metadata": {},
   "outputs": [
    {
     "name": "stdout",
     "output_type": "stream",
     "text": [
      "There are 22 total features in the data set. \n",
      "\n",
      "['Name', 'Type_1', 'Type_2', 'Total', 'HP', 'Attack', 'Defense', 'Sp_Atk', 'Sp_Def', 'Speed', 'Generation', 'isLegendary', 'Color', 'hasGender', 'Pr_Male', 'Egg_Group_1', 'Egg_Group_2', 'hasMegaEvolution', 'Height_m', 'Weight_kg', 'Catch_Rate', 'Body_Style']\n",
      "\n",
      "Lets get rid of a few features that we wont need for this exercise.\n",
      "Leaving us with the following data set.\n"
     ]
    },
    {
     "data": {
      "text/html": [
       "<div>\n",
       "<style>\n",
       "    .dataframe thead tr:only-child th {\n",
       "        text-align: right;\n",
       "    }\n",
       "\n",
       "    .dataframe thead th {\n",
       "        text-align: left;\n",
       "    }\n",
       "\n",
       "    .dataframe tbody tr th {\n",
       "        vertical-align: top;\n",
       "    }\n",
       "</style>\n",
       "<table border=\"1\" class=\"dataframe\">\n",
       "  <thead>\n",
       "    <tr style=\"text-align: right;\">\n",
       "      <th></th>\n",
       "      <th>Name</th>\n",
       "      <th>Type_1</th>\n",
       "      <th>Type_2</th>\n",
       "      <th>Total</th>\n",
       "      <th>HP</th>\n",
       "      <th>Attack</th>\n",
       "      <th>Defense</th>\n",
       "      <th>Sp_Atk</th>\n",
       "      <th>Sp_Def</th>\n",
       "      <th>Speed</th>\n",
       "      <th>Color</th>\n",
       "      <th>hasGender</th>\n",
       "      <th>Pr_Male</th>\n",
       "      <th>Egg_Group_1</th>\n",
       "      <th>Egg_Group_2</th>\n",
       "      <th>Height_m</th>\n",
       "      <th>Weight_kg</th>\n",
       "      <th>Catch_Rate</th>\n",
       "      <th>Body_Style</th>\n",
       "    </tr>\n",
       "    <tr>\n",
       "      <th>Number</th>\n",
       "      <th></th>\n",
       "      <th></th>\n",
       "      <th></th>\n",
       "      <th></th>\n",
       "      <th></th>\n",
       "      <th></th>\n",
       "      <th></th>\n",
       "      <th></th>\n",
       "      <th></th>\n",
       "      <th></th>\n",
       "      <th></th>\n",
       "      <th></th>\n",
       "      <th></th>\n",
       "      <th></th>\n",
       "      <th></th>\n",
       "      <th></th>\n",
       "      <th></th>\n",
       "      <th></th>\n",
       "      <th></th>\n",
       "    </tr>\n",
       "  </thead>\n",
       "  <tbody>\n",
       "    <tr>\n",
       "      <th>1</th>\n",
       "      <td>Bulbasaur</td>\n",
       "      <td>Grass</td>\n",
       "      <td>Poison</td>\n",
       "      <td>318</td>\n",
       "      <td>45</td>\n",
       "      <td>49</td>\n",
       "      <td>49</td>\n",
       "      <td>65</td>\n",
       "      <td>65</td>\n",
       "      <td>45</td>\n",
       "      <td>Green</td>\n",
       "      <td>True</td>\n",
       "      <td>0.875</td>\n",
       "      <td>Monster</td>\n",
       "      <td>Grass</td>\n",
       "      <td>0.71</td>\n",
       "      <td>6.9</td>\n",
       "      <td>45</td>\n",
       "      <td>quadruped</td>\n",
       "    </tr>\n",
       "    <tr>\n",
       "      <th>2</th>\n",
       "      <td>Ivysaur</td>\n",
       "      <td>Grass</td>\n",
       "      <td>Poison</td>\n",
       "      <td>405</td>\n",
       "      <td>60</td>\n",
       "      <td>62</td>\n",
       "      <td>63</td>\n",
       "      <td>80</td>\n",
       "      <td>80</td>\n",
       "      <td>60</td>\n",
       "      <td>Green</td>\n",
       "      <td>True</td>\n",
       "      <td>0.875</td>\n",
       "      <td>Monster</td>\n",
       "      <td>Grass</td>\n",
       "      <td>0.99</td>\n",
       "      <td>13.0</td>\n",
       "      <td>45</td>\n",
       "      <td>quadruped</td>\n",
       "    </tr>\n",
       "    <tr>\n",
       "      <th>3</th>\n",
       "      <td>Venusaur</td>\n",
       "      <td>Grass</td>\n",
       "      <td>Poison</td>\n",
       "      <td>525</td>\n",
       "      <td>80</td>\n",
       "      <td>82</td>\n",
       "      <td>83</td>\n",
       "      <td>100</td>\n",
       "      <td>100</td>\n",
       "      <td>80</td>\n",
       "      <td>Green</td>\n",
       "      <td>True</td>\n",
       "      <td>0.875</td>\n",
       "      <td>Monster</td>\n",
       "      <td>Grass</td>\n",
       "      <td>2.01</td>\n",
       "      <td>100.0</td>\n",
       "      <td>45</td>\n",
       "      <td>quadruped</td>\n",
       "    </tr>\n",
       "    <tr>\n",
       "      <th>4</th>\n",
       "      <td>Charmander</td>\n",
       "      <td>Fire</td>\n",
       "      <td>NaN</td>\n",
       "      <td>309</td>\n",
       "      <td>39</td>\n",
       "      <td>52</td>\n",
       "      <td>43</td>\n",
       "      <td>60</td>\n",
       "      <td>50</td>\n",
       "      <td>65</td>\n",
       "      <td>Red</td>\n",
       "      <td>True</td>\n",
       "      <td>0.875</td>\n",
       "      <td>Monster</td>\n",
       "      <td>Dragon</td>\n",
       "      <td>0.61</td>\n",
       "      <td>8.5</td>\n",
       "      <td>45</td>\n",
       "      <td>bipedal_tailed</td>\n",
       "    </tr>\n",
       "    <tr>\n",
       "      <th>5</th>\n",
       "      <td>Charmeleon</td>\n",
       "      <td>Fire</td>\n",
       "      <td>NaN</td>\n",
       "      <td>405</td>\n",
       "      <td>58</td>\n",
       "      <td>64</td>\n",
       "      <td>58</td>\n",
       "      <td>80</td>\n",
       "      <td>65</td>\n",
       "      <td>80</td>\n",
       "      <td>Red</td>\n",
       "      <td>True</td>\n",
       "      <td>0.875</td>\n",
       "      <td>Monster</td>\n",
       "      <td>Dragon</td>\n",
       "      <td>1.09</td>\n",
       "      <td>19.0</td>\n",
       "      <td>45</td>\n",
       "      <td>bipedal_tailed</td>\n",
       "    </tr>\n",
       "  </tbody>\n",
       "</table>\n",
       "</div>"
      ],
      "text/plain": [
       "              Name Type_1  Type_2  Total  HP  Attack  Defense  Sp_Atk  Sp_Def  \\\n",
       "Number                                                                          \n",
       "1        Bulbasaur  Grass  Poison    318  45      49       49      65      65   \n",
       "2          Ivysaur  Grass  Poison    405  60      62       63      80      80   \n",
       "3         Venusaur  Grass  Poison    525  80      82       83     100     100   \n",
       "4       Charmander   Fire     NaN    309  39      52       43      60      50   \n",
       "5       Charmeleon   Fire     NaN    405  58      64       58      80      65   \n",
       "\n",
       "        Speed  Color  hasGender  Pr_Male Egg_Group_1 Egg_Group_2  Height_m  \\\n",
       "Number                                                                       \n",
       "1          45  Green       True    0.875     Monster       Grass      0.71   \n",
       "2          60  Green       True    0.875     Monster       Grass      0.99   \n",
       "3          80  Green       True    0.875     Monster       Grass      2.01   \n",
       "4          65    Red       True    0.875     Monster      Dragon      0.61   \n",
       "5          80    Red       True    0.875     Monster      Dragon      1.09   \n",
       "\n",
       "        Weight_kg  Catch_Rate      Body_Style  \n",
       "Number                                         \n",
       "1             6.9          45       quadruped  \n",
       "2            13.0          45       quadruped  \n",
       "3           100.0          45       quadruped  \n",
       "4             8.5          45  bipedal_tailed  \n",
       "5            19.0          45  bipedal_tailed  "
      ]
     },
     "execution_count": 2,
     "metadata": {},
     "output_type": "execute_result"
    }
   ],
   "source": [
    "df_master = pd.read_csv('../data/pokemon_alopez247.csv')\n",
    "df_master = df_master.set_index('Number')\n",
    "\n",
    "print 'There are %s total features in the data set. \\n' % len( list(df_master))\n",
    "print list(df_master)\n",
    "print ''\n",
    "print 'Let''s get rid of a few features that we won''t need for this exercise.'\n",
    "print 'Leaving us with the following data set.'\n",
    "\n",
    "df_master = df_master[ df_master.isLegendary == False]\n",
    "df_master = df_master.drop([ 'isLegendary', 'hasMegaEvolution', 'Generation'], axis=1)\n",
    "df_master.head()"
   ]
  },
  {
   "cell_type": "code",
   "execution_count": 3,
   "metadata": {},
   "outputs": [
    {
     "data": {
      "text/plain": [
       "<matplotlib.axes._subplots.AxesSubplot at 0x7f22d8e76ad0>"
      ]
     },
     "execution_count": 3,
     "metadata": {},
     "output_type": "execute_result"
    },
    {
     "data": {
      "image/png": "[encoded data removed]",
      "text/plain": [
       "<matplotlib.figure.Figure at 0x7f22dc24fc10>"
      ]
     },
     "metadata": {},
     "output_type": "display_data"
    }
   ],
   "source": [
    "plt.figure( figsize=(15,15))\n",
    "plt.subplots_adjust( hspace=0.4, wspace=0.2)\n",
    "\n",
    "plt.subplot(2,2,1)\n",
    "df_master['Type_1'].value_counts().plot( kind='bar')\n",
    "\n",
    "plt.subplot(2,2,2)\n",
    "df_master.Type_2[  df_master['Type_2'].notnull()].value_counts().plot( kind='bar')"
   ]
  },
  {
   "cell_type": "markdown",
   "metadata": {},
   "source": [
    "Pokemon can take on a variety of different types. Above the frequency of different `Type_1` and `Type_2` values are shown."
   ]
  },
  {
   "cell_type": "code",
   "execution_count": 4,
   "metadata": {},
   "outputs": [
    {
     "data": {
      "text/plain": [
       "<matplotlib.axes._subplots.AxesSubplot at 0x7f22dc4d3e90>"
      ]
     },
     "execution_count": 4,
     "metadata": {},
     "output_type": "execute_result"
    },
    {
     "data": {
      "image/png": "[encoded data removed]",
      "text/plain": [
       "<matplotlib.figure.Figure at 0x7f22dc4d3f50>"
      ]
     },
     "metadata": {},
     "output_type": "display_data"
    }
   ],
   "source": [
    "typeCombo = pd.Series( df_master['Type_1'].value_counts() + df_master['Type_2'].value_counts())\n",
    "typeCombo = typeCombo.sort_values( ascending=False)\n",
    "\n",
    "plt.figure( figsize=(8,6))\n",
    "plt.title( 'Type Frequency, cumulated over Type_1 and Type_2.', fontsize=14)\n",
    "typeCombo.plot( kind='bar')"
   ]
  },
  {
   "cell_type": "markdown",
   "metadata": {
    "collapsed": true
   },
   "source": [
    "As shown above, Water type is the most prevelant type.\n",
    "\n",
    "## Water Type Prediction"
   ]
  },
  {
   "cell_type": "code",
   "execution_count": 5,
   "metadata": {
    "collapsed": true
   },
   "outputs": [],
   "source": [
    "from sklearn.preprocessing import OneHotEncoder"
   ]
  },
  {
   "cell_type": "code",
   "execution_count": 6,
   "metadata": {},
   "outputs": [
    {
     "name": "stderr",
     "output_type": "stream",
     "text": [
      "/home/julien/anaconda2/lib/python2.7/site-packages/pandas/core/indexing.py:179: SettingWithCopyWarning: \n",
      "A value is trying to be set on a copy of a slice from a DataFrame\n",
      "\n",
      "See the caveats in the documentation: http://pandas.pydata.org/pandas-docs/stable/indexing.html#indexing-view-versus-copy\n",
      "  self._setitem_with_indexer(indexer, value)\n"
     ]
    },
    {
     "data": {
      "text/html": [
       "<div>\n",
       "<style>\n",
       "    .dataframe thead tr:only-child th {\n",
       "        text-align: right;\n",
       "    }\n",
       "\n",
       "    .dataframe thead th {\n",
       "        text-align: left;\n",
       "    }\n",
       "\n",
       "    .dataframe tbody tr th {\n",
       "        vertical-align: top;\n",
       "    }\n",
       "</style>\n",
       "<table border=\"1\" class=\"dataframe\">\n",
       "  <thead>\n",
       "    <tr style=\"text-align: right;\">\n",
       "      <th></th>\n",
       "      <th>Water</th>\n",
       "      <th>Name</th>\n",
       "      <th>Total</th>\n",
       "      <th>HP</th>\n",
       "      <th>Attack</th>\n",
       "      <th>Defense</th>\n",
       "      <th>Sp_Atk</th>\n",
       "      <th>Sp_Def</th>\n",
       "      <th>Speed</th>\n",
       "      <th>Color</th>\n",
       "      <th>hasGender</th>\n",
       "      <th>Pr_Male</th>\n",
       "      <th>Egg_Group_1</th>\n",
       "      <th>Egg_Group_2</th>\n",
       "      <th>Height_m</th>\n",
       "      <th>Weight_kg</th>\n",
       "      <th>Catch_Rate</th>\n",
       "      <th>Body_Style</th>\n",
       "    </tr>\n",
       "    <tr>\n",
       "      <th>Number</th>\n",
       "      <th></th>\n",
       "      <th></th>\n",
       "      <th></th>\n",
       "      <th></th>\n",
       "      <th></th>\n",
       "      <th></th>\n",
       "      <th></th>\n",
       "      <th></th>\n",
       "      <th></th>\n",
       "      <th></th>\n",
       "      <th></th>\n",
       "      <th></th>\n",
       "      <th></th>\n",
       "      <th></th>\n",
       "      <th></th>\n",
       "      <th></th>\n",
       "      <th></th>\n",
       "      <th></th>\n",
       "    </tr>\n",
       "  </thead>\n",
       "  <tbody>\n",
       "    <tr>\n",
       "      <th>1</th>\n",
       "      <td>0</td>\n",
       "      <td>Bulbasaur</td>\n",
       "      <td>318</td>\n",
       "      <td>45</td>\n",
       "      <td>49</td>\n",
       "      <td>49</td>\n",
       "      <td>65</td>\n",
       "      <td>65</td>\n",
       "      <td>45</td>\n",
       "      <td>Green</td>\n",
       "      <td>True</td>\n",
       "      <td>0.875</td>\n",
       "      <td>Monster</td>\n",
       "      <td>Grass</td>\n",
       "      <td>0.71</td>\n",
       "      <td>6.9</td>\n",
       "      <td>45</td>\n",
       "      <td>quadruped</td>\n",
       "    </tr>\n",
       "    <tr>\n",
       "      <th>2</th>\n",
       "      <td>0</td>\n",
       "      <td>Ivysaur</td>\n",
       "      <td>405</td>\n",
       "      <td>60</td>\n",
       "      <td>62</td>\n",
       "      <td>63</td>\n",
       "      <td>80</td>\n",
       "      <td>80</td>\n",
       "      <td>60</td>\n",
       "      <td>Green</td>\n",
       "      <td>True</td>\n",
       "      <td>0.875</td>\n",
       "      <td>Monster</td>\n",
       "      <td>Grass</td>\n",
       "      <td>0.99</td>\n",
       "      <td>13.0</td>\n",
       "      <td>45</td>\n",
       "      <td>quadruped</td>\n",
       "    </tr>\n",
       "    <tr>\n",
       "      <th>3</th>\n",
       "      <td>0</td>\n",
       "      <td>Venusaur</td>\n",
       "      <td>525</td>\n",
       "      <td>80</td>\n",
       "      <td>82</td>\n",
       "      <td>83</td>\n",
       "      <td>100</td>\n",
       "      <td>100</td>\n",
       "      <td>80</td>\n",
       "      <td>Green</td>\n",
       "      <td>True</td>\n",
       "      <td>0.875</td>\n",
       "      <td>Monster</td>\n",
       "      <td>Grass</td>\n",
       "      <td>2.01</td>\n",
       "      <td>100.0</td>\n",
       "      <td>45</td>\n",
       "      <td>quadruped</td>\n",
       "    </tr>\n",
       "    <tr>\n",
       "      <th>4</th>\n",
       "      <td>0</td>\n",
       "      <td>Charmander</td>\n",
       "      <td>309</td>\n",
       "      <td>39</td>\n",
       "      <td>52</td>\n",
       "      <td>43</td>\n",
       "      <td>60</td>\n",
       "      <td>50</td>\n",
       "      <td>65</td>\n",
       "      <td>Red</td>\n",
       "      <td>True</td>\n",
       "      <td>0.875</td>\n",
       "      <td>Monster</td>\n",
       "      <td>Dragon</td>\n",
       "      <td>0.61</td>\n",
       "      <td>8.5</td>\n",
       "      <td>45</td>\n",
       "      <td>bipedal_tailed</td>\n",
       "    </tr>\n",
       "    <tr>\n",
       "      <th>5</th>\n",
       "      <td>0</td>\n",
       "      <td>Charmeleon</td>\n",
       "      <td>405</td>\n",
       "      <td>58</td>\n",
       "      <td>64</td>\n",
       "      <td>58</td>\n",
       "      <td>80</td>\n",
       "      <td>65</td>\n",
       "      <td>80</td>\n",
       "      <td>Red</td>\n",
       "      <td>True</td>\n",
       "      <td>0.875</td>\n",
       "      <td>Monster</td>\n",
       "      <td>Dragon</td>\n",
       "      <td>1.09</td>\n",
       "      <td>19.0</td>\n",
       "      <td>45</td>\n",
       "      <td>bipedal_tailed</td>\n",
       "    </tr>\n",
       "  </tbody>\n",
       "</table>\n",
       "</div>"
      ],
      "text/plain": [
       "        Water        Name  Total  HP  Attack  Defense  Sp_Atk  Sp_Def  Speed  \\\n",
       "Number                                                                         \n",
       "1           0   Bulbasaur    318  45      49       49      65      65     45   \n",
       "2           0     Ivysaur    405  60      62       63      80      80     60   \n",
       "3           0    Venusaur    525  80      82       83     100     100     80   \n",
       "4           0  Charmander    309  39      52       43      60      50     65   \n",
       "5           0  Charmeleon    405  58      64       58      80      65     80   \n",
       "\n",
       "        Color  hasGender  Pr_Male Egg_Group_1 Egg_Group_2  Height_m  \\\n",
       "Number                                                                \n",
       "1       Green       True    0.875     Monster       Grass      0.71   \n",
       "2       Green       True    0.875     Monster       Grass      0.99   \n",
       "3       Green       True    0.875     Monster       Grass      2.01   \n",
       "4         Red       True    0.875     Monster      Dragon      0.61   \n",
       "5         Red       True    0.875     Monster      Dragon      1.09   \n",
       "\n",
       "        Weight_kg  Catch_Rate      Body_Style  \n",
       "Number                                         \n",
       "1             6.9          45       quadruped  \n",
       "2            13.0          45       quadruped  \n",
       "3           100.0          45       quadruped  \n",
       "4             8.5          45  bipedal_tailed  \n",
       "5            19.0          45  bipedal_tailed  "
      ]
     },
     "execution_count": 6,
     "metadata": {},
     "output_type": "execute_result"
    }
   ],
   "source": [
    "df_water = df_master\n",
    "df_water.Type_2.loc[ df_master['Type_2'].isnull() == True] = ''\n",
    "typeSeries = df_water['Type_1'] + '|' + df_water['Type_2']\n",
    "typeMatrix = typeSeries.str.get_dummies('|')\n",
    "\n",
    "df_water = pd.merge( typeMatrix, df_water.drop([ 'Type_1', 'Type_2'], axis=1), left_index=True, right_index=True)\n",
    "df_water = df_water.drop(['Grass', 'Fire', 'Flying', 'Bug', 'Normal',\n",
    "                          'Poison', 'Electric', 'Ground', 'Fairy',\n",
    "                          'Fighting', 'Psychic', 'Rock', 'Ghost',\n",
    "                          'Ice', 'Dragon', 'Dark', 'Steel'], axis=1)\n",
    "\n",
    "df_water.head()"
   ]
  },
  {
   "cell_type": "code",
   "execution_count": 7,
   "metadata": {
    "collapsed": true
   },
   "outputs": [],
   "source": [
    "floatList = [ 'Total', 'HP', 'Attack', 'Defense',\n",
    "              'Sp_Atk', 'Sp_Def', 'Speed', 'hasGender', 'Catch_Rate']\n",
    "\n",
    "for feature in floatList:\n",
    "    df_water[ feature] = df_water[ feature].astype('float64')"
   ]
  },
  {
   "cell_type": "code",
   "execution_count": 8,
   "metadata": {},
   "outputs": [
    {
     "data": {
      "text/html": [
       "<div>\n",
       "<style>\n",
       "    .dataframe thead tr:only-child th {\n",
       "        text-align: right;\n",
       "    }\n",
       "\n",
       "    .dataframe thead th {\n",
       "        text-align: left;\n",
       "    }\n",
       "\n",
       "    .dataframe tbody tr th {\n",
       "        vertical-align: top;\n",
       "    }\n",
       "</style>\n",
       "<table border=\"1\" class=\"dataframe\">\n",
       "  <thead>\n",
       "    <tr style=\"text-align: right;\">\n",
       "      <th></th>\n",
       "      <th>Water</th>\n",
       "      <th>Total</th>\n",
       "      <th>HP</th>\n",
       "      <th>Attack</th>\n",
       "      <th>Defense</th>\n",
       "      <th>Sp_Atk</th>\n",
       "      <th>Sp_Def</th>\n",
       "      <th>Speed</th>\n",
       "      <th>hasGender</th>\n",
       "      <th>Height_m</th>\n",
       "      <th>Weight_kg</th>\n",
       "      <th>Catch_Rate</th>\n",
       "    </tr>\n",
       "    <tr>\n",
       "      <th>Number</th>\n",
       "      <th></th>\n",
       "      <th></th>\n",
       "      <th></th>\n",
       "      <th></th>\n",
       "      <th></th>\n",
       "      <th></th>\n",
       "      <th></th>\n",
       "      <th></th>\n",
       "      <th></th>\n",
       "      <th></th>\n",
       "      <th></th>\n",
       "      <th></th>\n",
       "    </tr>\n",
       "  </thead>\n",
       "  <tbody>\n",
       "    <tr>\n",
       "      <th>1</th>\n",
       "      <td>0</td>\n",
       "      <td>318.0</td>\n",
       "      <td>45.0</td>\n",
       "      <td>49.0</td>\n",
       "      <td>49.0</td>\n",
       "      <td>65.0</td>\n",
       "      <td>65.0</td>\n",
       "      <td>45.0</td>\n",
       "      <td>1.0</td>\n",
       "      <td>0.71</td>\n",
       "      <td>6.9</td>\n",
       "      <td>45.0</td>\n",
       "    </tr>\n",
       "    <tr>\n",
       "      <th>2</th>\n",
       "      <td>0</td>\n",
       "      <td>405.0</td>\n",
       "      <td>60.0</td>\n",
       "      <td>62.0</td>\n",
       "      <td>63.0</td>\n",
       "      <td>80.0</td>\n",
       "      <td>80.0</td>\n",
       "      <td>60.0</td>\n",
       "      <td>1.0</td>\n",
       "      <td>0.99</td>\n",
       "      <td>13.0</td>\n",
       "      <td>45.0</td>\n",
       "    </tr>\n",
       "    <tr>\n",
       "      <th>3</th>\n",
       "      <td>0</td>\n",
       "      <td>525.0</td>\n",
       "      <td>80.0</td>\n",
       "      <td>82.0</td>\n",
       "      <td>83.0</td>\n",
       "      <td>100.0</td>\n",
       "      <td>100.0</td>\n",
       "      <td>80.0</td>\n",
       "      <td>1.0</td>\n",
       "      <td>2.01</td>\n",
       "      <td>100.0</td>\n",
       "      <td>45.0</td>\n",
       "    </tr>\n",
       "    <tr>\n",
       "      <th>4</th>\n",
       "      <td>0</td>\n",
       "      <td>309.0</td>\n",
       "      <td>39.0</td>\n",
       "      <td>52.0</td>\n",
       "      <td>43.0</td>\n",
       "      <td>60.0</td>\n",
       "      <td>50.0</td>\n",
       "      <td>65.0</td>\n",
       "      <td>1.0</td>\n",
       "      <td>0.61</td>\n",
       "      <td>8.5</td>\n",
       "      <td>45.0</td>\n",
       "    </tr>\n",
       "    <tr>\n",
       "      <th>5</th>\n",
       "      <td>0</td>\n",
       "      <td>405.0</td>\n",
       "      <td>58.0</td>\n",
       "      <td>64.0</td>\n",
       "      <td>58.0</td>\n",
       "      <td>80.0</td>\n",
       "      <td>65.0</td>\n",
       "      <td>80.0</td>\n",
       "      <td>1.0</td>\n",
       "      <td>1.09</td>\n",
       "      <td>19.0</td>\n",
       "      <td>45.0</td>\n",
       "    </tr>\n",
       "  </tbody>\n",
       "</table>\n",
       "</div>"
      ],
      "text/plain": [
       "        Water  Total    HP  Attack  Defense  Sp_Atk  Sp_Def  Speed  hasGender  \\\n",
       "Number                                                                          \n",
       "1           0  318.0  45.0    49.0     49.0    65.0    65.0   45.0        1.0   \n",
       "2           0  405.0  60.0    62.0     63.0    80.0    80.0   60.0        1.0   \n",
       "3           0  525.0  80.0    82.0     83.0   100.0   100.0   80.0        1.0   \n",
       "4           0  309.0  39.0    52.0     43.0    60.0    50.0   65.0        1.0   \n",
       "5           0  405.0  58.0    64.0     58.0    80.0    65.0   80.0        1.0   \n",
       "\n",
       "        Height_m  Weight_kg  Catch_Rate  \n",
       "Number                                   \n",
       "1           0.71        6.9        45.0  \n",
       "2           0.99       13.0        45.0  \n",
       "3           2.01      100.0        45.0  \n",
       "4           0.61        8.5        45.0  \n",
       "5           1.09       19.0        45.0  "
      ]
     },
     "execution_count": 8,
     "metadata": {},
     "output_type": "execute_result"
    }
   ],
   "source": [
    "df_water = df_water.drop(['Name', 'Color', 'Pr_Male', 'Egg_Group_1', 'Egg_Group_2', 'Body_Style'], axis=1)\n",
    "\n",
    "df_water.head()"
   ]
  },
  {
   "cell_type": "code",
   "execution_count": null,
   "metadata": {
    "collapsed": true
   },
   "outputs": [],
   "source": []
  },
  {
   "cell_type": "code",
   "execution_count": null,
   "metadata": {
    "collapsed": true
   },
   "outputs": [],
   "source": []
  },
  {
   "cell_type": "code",
   "execution_count": 9,
   "metadata": {
    "collapsed": true
   },
   "outputs": [],
   "source": [
    "from sklearn.model_selection import train_test_split\n",
    "from sklearn.model_selection import KFold\n",
    "from sklearn.model_selection import cross_val_score\n",
    "from sklearn.model_selection import GridSearchCV\n",
    "from sklearn.linear_model    import LogisticRegression\n",
    "from sklearn.pipeline        import Pipeline\n",
    "from sklearn import metrics\n",
    "from sklearn import preprocessing"
   ]
  },
  {
   "cell_type": "code",
   "execution_count": 10,
   "metadata": {
    "collapsed": true
   },
   "outputs": [],
   "source": [
    "# gridsearch estimator\n",
    "pipe = Pipeline( steps=[( 'clfLog', LogisticRegression())] )\n",
    "estimator = GridSearchCV( pipe,\n",
    "                         dict( clfLog__C=np.logspace(-4, 4, 5)) )"
   ]
  },
  {
   "cell_type": "code",
   "execution_count": 11,
   "metadata": {
    "collapsed": true
   },
   "outputs": [],
   "source": [
    "# split data into features and output\n",
    "columnIdx = df_water.columns\n",
    "features  = df_water[ columnIdx[1:]]\n",
    "typeWater = df_water['Water']"
   ]
  },
  {
   "cell_type": "code",
   "execution_count": 12,
   "metadata": {},
   "outputs": [
    {
     "data": {
      "text/plain": [
       "GridSearchCV(cv=None, error_score='raise',\n",
       "       estimator=Pipeline(steps=[('clfLog', LogisticRegression(C=1.0, class_weight=None, dual=False, fit_intercept=True,\n",
       "          intercept_scaling=1, max_iter=100, multi_class='ovr', n_jobs=1,\n",
       "          penalty='l2', random_state=None, solver='liblinear', tol=0.0001,\n",
       "          verbose=0, warm_start=False))]),\n",
       "       fit_params={}, iid=True, n_jobs=1,\n",
       "       param_grid={'clfLog__C': array([  1.00000e-04,   1.00000e-02,   1.00000e+00,   1.00000e+02,\n",
       "         1.00000e+04])},\n",
       "       pre_dispatch='2*n_jobs', refit=True, return_train_score=True,\n",
       "       scoring=None, verbose=0)"
      ]
     },
     "execution_count": 12,
     "metadata": {},
     "output_type": "execute_result"
    }
   ],
   "source": [
    "estimator.fit( features, typeWater)"
   ]
  },
  {
   "cell_type": "code",
   "execution_count": 13,
   "metadata": {},
   "outputs": [
    {
     "data": {
      "text/plain": [
       "<matplotlib.text.Text at 0x7f22d57b5e10>"
      ]
     },
     "execution_count": 13,
     "metadata": {},
     "output_type": "execute_result"
    },
    {
     "data": {
      "image/png": "[encoded data removed]",
      "text/plain": [
       "<matplotlib.figure.Figure at 0x7f22d5806f10>"
      ]
     },
     "metadata": {},
     "output_type": "display_data"
    }
   ],
   "source": [
    "clfLog_coef = estimator.best_estimator_.named_steps['clfLog'].coef_[0]\n",
    "features.columns\n",
    "sns.set_style(\"whitegrid\")\n",
    "sns.barplot( x=features.columns, y=abs(clfLog_coef))\n",
    "plt.xticks(rotation=90);\n",
    "plt.ylabel('Magnitude of Regression Coefficients')"
   ]
  },
  {
   "cell_type": "code",
   "execution_count": 16,
   "metadata": {},
   "outputs": [
    {
     "name": "stdout",
     "output_type": "stream",
     "text": [
      "Accuracy of model = 0.831\n"
     ]
    }
   ],
   "source": [
    "print 'Accuracy of model = %.3f'  % estimator.best_score_"
   ]
  },
  {
   "cell_type": "code",
   "execution_count": 24,
   "metadata": {},
   "outputs": [
    {
     "name": "stdout",
     "output_type": "stream",
     "text": [
      "Summary metrics for Logistic Regression: \n",
      "              precision    recall  f1-score   support\n",
      "\n",
      "          0       0.82      1.00      0.90       278\n",
      "          1       0.00      0.00      0.00        60\n",
      "\n",
      "avg / total       0.68      0.82      0.74       338\n",
      "\n"
     ]
    }
   ],
   "source": [
    "# get best performing model from estimator\n",
    "clf_log = estimator.best_estimator_\n",
    "# Make training and test data sets so that we can produce a classification report.\n",
    "X_train, X_test, y_train, y_test = train_test_split( features, typeWater, test_size=0.50, random_state=11)\n",
    "y_predict = clf_log.predict( X_test)\n",
    "print 'Summary metrics for Logistic Regression: \\n %s' \\\n",
    "        % metrics.classification_report( y_test, y_predict)"
   ]
  },
  {
   "cell_type": "markdown",
   "metadata": {
    "collapsed": true
   },
   "source": [
    "As you can see, although the model has an accuracy of 83%, in fact it did not perform very well since none of the water types (class = 1) were correctly predicted.\n",
    "\n",
    "### Battle Attribute Normalization\n",
    "\n",
    "Let's try some feature normalization in order to improve our results. We will normalize the pokemon battle attributes `HP`, `Attack`, `Defense`, `Sp_Atk`, `Sp_Def` and `Speed`. The sume of all these features is the Pokemon's `Total`. Some pokemon are inherently stronger than others, so they will have all around higher battle attributes than weaker pokemon. In order to have all pokemon on an even footing, we will normalize the battle features by the `Total`."
   ]
  },
  {
   "cell_type": "code",
   "execution_count": 26,
   "metadata": {},
   "outputs": [],
   "source": [
    "battleFeatures = [ 'Attack', 'Defense', 'Sp_Atk', 'Sp_Def', 'HP', 'Speed']\n",
    "for b in battleFeatures:\n",
    "    df_water[b] = df_water[b] / df_water['Total']"
   ]
  },
  {
   "cell_type": "code",
   "execution_count": 32,
   "metadata": {},
   "outputs": [
    {
     "data": {
      "text/html": [
       "<div>\n",
       "<style>\n",
       "    .dataframe thead tr:only-child th {\n",
       "        text-align: right;\n",
       "    }\n",
       "\n",
       "    .dataframe thead th {\n",
       "        text-align: left;\n",
       "    }\n",
       "\n",
       "    .dataframe tbody tr th {\n",
       "        vertical-align: top;\n",
       "    }\n",
       "</style>\n",
       "<table border=\"1\" class=\"dataframe\">\n",
       "  <thead>\n",
       "    <tr style=\"text-align: right;\">\n",
       "      <th></th>\n",
       "      <th>Water</th>\n",
       "      <th>Total</th>\n",
       "      <th>HP</th>\n",
       "      <th>Attack</th>\n",
       "      <th>Defense</th>\n",
       "      <th>Sp_Atk</th>\n",
       "      <th>Sp_Def</th>\n",
       "      <th>Speed</th>\n",
       "      <th>hasGender</th>\n",
       "      <th>Height_m</th>\n",
       "      <th>Weight_kg</th>\n",
       "      <th>Catch_Rate</th>\n",
       "    </tr>\n",
       "    <tr>\n",
       "      <th>Number</th>\n",
       "      <th></th>\n",
       "      <th></th>\n",
       "      <th></th>\n",
       "      <th></th>\n",
       "      <th></th>\n",
       "      <th></th>\n",
       "      <th></th>\n",
       "      <th></th>\n",
       "      <th></th>\n",
       "      <th></th>\n",
       "      <th></th>\n",
       "      <th></th>\n",
       "    </tr>\n",
       "  </thead>\n",
       "  <tbody>\n",
       "    <tr>\n",
       "      <th>1</th>\n",
       "      <td>0</td>\n",
       "      <td>318.0</td>\n",
       "      <td>0.141509</td>\n",
       "      <td>0.154088</td>\n",
       "      <td>0.154088</td>\n",
       "      <td>0.204403</td>\n",
       "      <td>0.204403</td>\n",
       "      <td>0.141509</td>\n",
       "      <td>1.0</td>\n",
       "      <td>0.71</td>\n",
       "      <td>6.9</td>\n",
       "      <td>45.0</td>\n",
       "    </tr>\n",
       "    <tr>\n",
       "      <th>2</th>\n",
       "      <td>0</td>\n",
       "      <td>405.0</td>\n",
       "      <td>0.148148</td>\n",
       "      <td>0.153086</td>\n",
       "      <td>0.155556</td>\n",
       "      <td>0.197531</td>\n",
       "      <td>0.197531</td>\n",
       "      <td>0.148148</td>\n",
       "      <td>1.0</td>\n",
       "      <td>0.99</td>\n",
       "      <td>13.0</td>\n",
       "      <td>45.0</td>\n",
       "    </tr>\n",
       "    <tr>\n",
       "      <th>3</th>\n",
       "      <td>0</td>\n",
       "      <td>525.0</td>\n",
       "      <td>0.152381</td>\n",
       "      <td>0.156190</td>\n",
       "      <td>0.158095</td>\n",
       "      <td>0.190476</td>\n",
       "      <td>0.190476</td>\n",
       "      <td>0.152381</td>\n",
       "      <td>1.0</td>\n",
       "      <td>2.01</td>\n",
       "      <td>100.0</td>\n",
       "      <td>45.0</td>\n",
       "    </tr>\n",
       "    <tr>\n",
       "      <th>4</th>\n",
       "      <td>0</td>\n",
       "      <td>309.0</td>\n",
       "      <td>0.126214</td>\n",
       "      <td>0.168285</td>\n",
       "      <td>0.139159</td>\n",
       "      <td>0.194175</td>\n",
       "      <td>0.161812</td>\n",
       "      <td>0.210356</td>\n",
       "      <td>1.0</td>\n",
       "      <td>0.61</td>\n",
       "      <td>8.5</td>\n",
       "      <td>45.0</td>\n",
       "    </tr>\n",
       "    <tr>\n",
       "      <th>5</th>\n",
       "      <td>0</td>\n",
       "      <td>405.0</td>\n",
       "      <td>0.143210</td>\n",
       "      <td>0.158025</td>\n",
       "      <td>0.143210</td>\n",
       "      <td>0.197531</td>\n",
       "      <td>0.160494</td>\n",
       "      <td>0.197531</td>\n",
       "      <td>1.0</td>\n",
       "      <td>1.09</td>\n",
       "      <td>19.0</td>\n",
       "      <td>45.0</td>\n",
       "    </tr>\n",
       "  </tbody>\n",
       "</table>\n",
       "</div>"
      ],
      "text/plain": [
       "        Water  Total        HP    Attack   Defense    Sp_Atk    Sp_Def  \\\n",
       "Number                                                                   \n",
       "1           0  318.0  0.141509  0.154088  0.154088  0.204403  0.204403   \n",
       "2           0  405.0  0.148148  0.153086  0.155556  0.197531  0.197531   \n",
       "3           0  525.0  0.152381  0.156190  0.158095  0.190476  0.190476   \n",
       "4           0  309.0  0.126214  0.168285  0.139159  0.194175  0.161812   \n",
       "5           0  405.0  0.143210  0.158025  0.143210  0.197531  0.160494   \n",
       "\n",
       "           Speed  hasGender  Height_m  Weight_kg  Catch_Rate  \n",
       "Number                                                        \n",
       "1       0.141509        1.0      0.71        6.9        45.0  \n",
       "2       0.148148        1.0      0.99       13.0        45.0  \n",
       "3       0.152381        1.0      2.01      100.0        45.0  \n",
       "4       0.210356        1.0      0.61        8.5        45.0  \n",
       "5       0.197531        1.0      1.09       19.0        45.0  "
      ]
     },
     "execution_count": 32,
     "metadata": {},
     "output_type": "execute_result"
    }
   ],
   "source": [
    "# split data into features and output\n",
    "columnIdx = df_water.columns\n",
    "features  = df_water[ columnIdx[1:]]\n",
    "typeWater = df_water['Water']\n",
    "\n",
    "df_water.head()"
   ]
  },
  {
   "cell_type": "code",
   "execution_count": 35,
   "metadata": {},
   "outputs": [
    {
     "name": "stdout",
     "output_type": "stream",
     "text": [
      "Accuracy of model = 0.831\n"
     ]
    },
    {
     "data": {
      "text/plain": [
       "<matplotlib.text.Text at 0x7f22d55fde90>"
      ]
     },
     "execution_count": 35,
     "metadata": {},
     "output_type": "execute_result"
    },
    {
     "data": {
      "image/png": "[encoded data removed]",
      "text/plain": [
       "<matplotlib.figure.Figure at 0x7f22d5806250>"
      ]
     },
     "metadata": {},
     "output_type": "display_data"
    }
   ],
   "source": [
    "# gridsearch estimator\n",
    "pipe = Pipeline( steps=[( 'clfLog', LogisticRegression())] )\n",
    "estimator = GridSearchCV( pipe,\n",
    "                         dict( clfLog__C=np.logspace(-4, 4, 5)) )\n",
    "\n",
    "estimator.fit( features, typeWater)\n",
    "print 'Accuracy of model = %.3f'  % estimator.best_score_\n",
    "\n",
    "clfLog_coef = estimator.best_estimator_.named_steps['clfLog'].coef_[0]\n",
    "features.columns\n",
    "sns.set_style(\"whitegrid\")\n",
    "sns.barplot( x=features.columns, y=abs(clfLog_coef))\n",
    "plt.xticks(rotation=90);\n",
    "plt.ylabel('Magnitude of Regression Coefficients')"
   ]
  },
  {
   "cell_type": "code",
   "execution_count": 34,
   "metadata": {},
   "outputs": [
    {
     "name": "stdout",
     "output_type": "stream",
     "text": [
      "Summary metrics for Logistic Regression: \n",
      "              precision    recall  f1-score   support\n",
      "\n",
      "          0       0.82      1.00      0.90       278\n",
      "          1       0.00      0.00      0.00        60\n",
      "\n",
      "avg / total       0.68      0.82      0.74       338\n",
      "\n"
     ]
    }
   ],
   "source": [
    "# get best performing model from estimator\n",
    "clf_log = estimator.best_estimator_\n",
    "# Make training and test data sets so that we can produce a classification report.\n",
    "X_train, X_test, y_train, y_test = train_test_split( features, typeWater, test_size=0.50, random_state=11)\n",
    "y_predict = clf_log.predict( X_test)\n",
    "print 'Summary metrics for Logistic Regression: \\n %s' \\\n",
    "        % metrics.classification_report( y_test, y_predict)"
   ]
  },
  {
   "cell_type": "code",
   "execution_count": 63,
   "metadata": {},
   "outputs": [
    {
     "data": {
      "text/html": [
       "<div>\n",
       "<style>\n",
       "    .dataframe thead tr:only-child th {\n",
       "        text-align: right;\n",
       "    }\n",
       "\n",
       "    .dataframe thead th {\n",
       "        text-align: left;\n",
       "    }\n",
       "\n",
       "    .dataframe tbody tr th {\n",
       "        vertical-align: top;\n",
       "    }\n",
       "</style>\n",
       "<table border=\"1\" class=\"dataframe\">\n",
       "  <thead>\n",
       "    <tr style=\"text-align: right;\">\n",
       "      <th></th>\n",
       "      <th>Water</th>\n",
       "      <th>Total</th>\n",
       "      <th>HP</th>\n",
       "      <th>Attack</th>\n",
       "      <th>Defense</th>\n",
       "      <th>Sp_Atk</th>\n",
       "      <th>Sp_Def</th>\n",
       "      <th>Speed</th>\n",
       "      <th>hasGender</th>\n",
       "      <th>Height_m</th>\n",
       "      <th>Weight_kg</th>\n",
       "      <th>Catch_Rate</th>\n",
       "    </tr>\n",
       "    <tr>\n",
       "      <th>Number</th>\n",
       "      <th></th>\n",
       "      <th></th>\n",
       "      <th></th>\n",
       "      <th></th>\n",
       "      <th></th>\n",
       "      <th></th>\n",
       "      <th></th>\n",
       "      <th></th>\n",
       "      <th></th>\n",
       "      <th></th>\n",
       "      <th></th>\n",
       "      <th></th>\n",
       "    </tr>\n",
       "  </thead>\n",
       "  <tbody>\n",
       "    <tr>\n",
       "      <th>1</th>\n",
       "      <td>0</td>\n",
       "      <td>-0.874175</td>\n",
       "      <td>0.141509</td>\n",
       "      <td>0.154088</td>\n",
       "      <td>0.154088</td>\n",
       "      <td>0.204403</td>\n",
       "      <td>0.204403</td>\n",
       "      <td>0.141509</td>\n",
       "      <td>1.0</td>\n",
       "      <td>-0.377269</td>\n",
       "      <td>-0.606716</td>\n",
       "      <td>-0.822972</td>\n",
       "    </tr>\n",
       "    <tr>\n",
       "      <th>2</th>\n",
       "      <td>0</td>\n",
       "      <td>0.008507</td>\n",
       "      <td>0.148148</td>\n",
       "      <td>0.153086</td>\n",
       "      <td>0.155556</td>\n",
       "      <td>0.197531</td>\n",
       "      <td>0.197531</td>\n",
       "      <td>0.148148</td>\n",
       "      <td>1.0</td>\n",
       "      <td>-0.072030</td>\n",
       "      <td>-0.514169</td>\n",
       "      <td>-0.822972</td>\n",
       "    </tr>\n",
       "    <tr>\n",
       "      <th>3</th>\n",
       "      <td>0</td>\n",
       "      <td>1.226001</td>\n",
       "      <td>0.152381</td>\n",
       "      <td>0.156190</td>\n",
       "      <td>0.158095</td>\n",
       "      <td>0.190476</td>\n",
       "      <td>0.190476</td>\n",
       "      <td>0.152381</td>\n",
       "      <td>1.0</td>\n",
       "      <td>1.039913</td>\n",
       "      <td>0.805761</td>\n",
       "      <td>-0.822972</td>\n",
       "    </tr>\n",
       "    <tr>\n",
       "      <th>4</th>\n",
       "      <td>0</td>\n",
       "      <td>-0.965487</td>\n",
       "      <td>0.126214</td>\n",
       "      <td>0.168285</td>\n",
       "      <td>0.139159</td>\n",
       "      <td>0.194175</td>\n",
       "      <td>0.161812</td>\n",
       "      <td>0.210356</td>\n",
       "      <td>1.0</td>\n",
       "      <td>-0.486283</td>\n",
       "      <td>-0.582441</td>\n",
       "      <td>-0.822972</td>\n",
       "    </tr>\n",
       "    <tr>\n",
       "      <th>5</th>\n",
       "      <td>0</td>\n",
       "      <td>0.008507</td>\n",
       "      <td>0.143210</td>\n",
       "      <td>0.158025</td>\n",
       "      <td>0.143210</td>\n",
       "      <td>0.197531</td>\n",
       "      <td>0.160494</td>\n",
       "      <td>0.197531</td>\n",
       "      <td>1.0</td>\n",
       "      <td>0.036984</td>\n",
       "      <td>-0.423139</td>\n",
       "      <td>-0.822972</td>\n",
       "    </tr>\n",
       "  </tbody>\n",
       "</table>\n",
       "</div>"
      ],
      "text/plain": [
       "        Water     Total        HP    Attack   Defense    Sp_Atk    Sp_Def  \\\n",
       "Number                                                                      \n",
       "1           0 -0.874175  0.141509  0.154088  0.154088  0.204403  0.204403   \n",
       "2           0  0.008507  0.148148  0.153086  0.155556  0.197531  0.197531   \n",
       "3           0  1.226001  0.152381  0.156190  0.158095  0.190476  0.190476   \n",
       "4           0 -0.965487  0.126214  0.168285  0.139159  0.194175  0.161812   \n",
       "5           0  0.008507  0.143210  0.158025  0.143210  0.197531  0.160494   \n",
       "\n",
       "           Speed  hasGender  Height_m  Weight_kg  Catch_Rate  \n",
       "Number                                                        \n",
       "1       0.141509        1.0 -0.377269  -0.606716   -0.822972  \n",
       "2       0.148148        1.0 -0.072030  -0.514169   -0.822972  \n",
       "3       0.152381        1.0  1.039913   0.805761   -0.822972  \n",
       "4       0.210356        1.0 -0.486283  -0.582441   -0.822972  \n",
       "5       0.197531        1.0  0.036984  -0.423139   -0.822972  "
      ]
     },
     "execution_count": 63,
     "metadata": {},
     "output_type": "execute_result"
    }
   ],
   "source": [
    "scaler = preprocessing.StandardScaler()\n",
    "scaler.fit( df_water[ [ 'Total', 'Height_m', 'Weight_kg', 'Catch_Rate']] )\n",
    "#print scaler.mean_\n",
    "#print scaler.transform( df_water[ [ 'Total', 'Height_m', 'Weight_kg', 'Catch_Rate']])\n",
    "df_water[ [ 'Total', 'Height_m', 'Weight_kg', 'Catch_Rate']] = scaler.transform( df_water[ [ 'Total', 'Height_m', 'Weight_kg', 'Catch_Rate']])\n",
    "\n",
    "features  = df_water[ columnIdx[1:]]\n",
    "typeWater = df_water['Water']\n",
    "\n",
    "df_water.head()"
   ]
  },
  {
   "cell_type": "code",
   "execution_count": 64,
   "metadata": {},
   "outputs": [
    {
     "name": "stdout",
     "output_type": "stream",
     "text": [
      "Accuracy of model = 0.831\n"
     ]
    },
    {
     "data": {
      "text/plain": [
       "<matplotlib.text.Text at 0x7f22d5376cd0>"
      ]
     },
     "execution_count": 64,
     "metadata": {},
     "output_type": "execute_result"
    },
    {
     "data": {
      "image/png": "[encoded data removed]",
      "text/plain": [
       "<matplotlib.figure.Figure at 0x7f22d52fb710>"
      ]
     },
     "metadata": {},
     "output_type": "display_data"
    }
   ],
   "source": [
    "# gridsearch estimator\n",
    "pipe = Pipeline( steps=[( 'clfLog', LogisticRegression())] )\n",
    "estimator = GridSearchCV( pipe,\n",
    "                         dict( clfLog__C=np.logspace(-4, 4, 5)) )\n",
    "\n",
    "estimator.fit( features, typeWater)\n",
    "print 'Accuracy of model = %.3f'  % estimator.best_score_\n",
    "\n",
    "clfLog_coef = estimator.best_estimator_.named_steps['clfLog'].coef_[0]\n",
    "features.columns\n",
    "sns.set_style(\"whitegrid\")\n",
    "sns.barplot( x=features.columns, y=abs(clfLog_coef))\n",
    "plt.xticks(rotation=90);\n",
    "plt.ylabel('Magnitude of Regression Coefficients')"
   ]
  },
  {
   "cell_type": "code",
   "execution_count": 65,
   "metadata": {},
   "outputs": [
    {
     "name": "stdout",
     "output_type": "stream",
     "text": [
      "Summary metrics for Logistic Regression: \n",
      "              precision    recall  f1-score   support\n",
      "\n",
      "          0       0.82      1.00      0.90       278\n",
      "          1       0.00      0.00      0.00        60\n",
      "\n",
      "avg / total       0.68      0.82      0.74       338\n",
      "\n"
     ]
    }
   ],
   "source": [
    "# get best performing model from estimator\n",
    "clf_log = estimator.best_estimator_\n",
    "# Make training and test data sets so that we can produce a classification report.\n",
    "X_train, X_test, y_train, y_test = train_test_split( features, typeWater, test_size=0.50, random_state=11)\n",
    "y_predict = clf_log.predict( X_test)\n",
    "print 'Summary metrics for Logistic Regression: \\n %s' \\\n",
    "        % metrics.classification_report( y_test, y_predict)"
   ]
  },
  {
   "cell_type": "code",
   "execution_count": null,
   "metadata": {
    "collapsed": true
   },
   "outputs": [],
   "source": []
  }
 ],
 "metadata": {
  "kernelspec": {
   "display_name": "Python 2",
   "language": "python",
   "name": "python2"
  },
  "language_info": {
   "codemirror_mode": {
    "name": "ipython",
    "version": 2
   },
   "file_extension": ".py",
   "mimetype": "text/x-python",
   "name": "python",
   "nbconvert_exporter": "python",
   "pygments_lexer": "ipython2",
   "version": "2.7.13"
  }
 },
 "nbformat": 4,
 "nbformat_minor": 2
}
