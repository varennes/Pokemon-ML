{
 "cells": [
  {
   "cell_type": "code",
   "execution_count": 1,
   "metadata": {
    "collapsed": true
   },
   "outputs": [],
   "source": [
    "import pandas as pd\n",
    "import numpy as np\n",
    "import seaborn as sns\n",
    "import matplotlib.pyplot as plt\n",
    "\n",
    "% matplotlib inline"
   ]
  },
  {
   "cell_type": "markdown",
   "metadata": {},
   "source": [
    "# Is that Pokemon a water type?\n",
    "\n",
    "In this notebook we will examine whether we can predict a specific type of pokemon, namely water type. Our motivation for doing this is that there a total of 18 different types, and so developing a model that can predict any pokemon type may prove difficult. Therefore we will first develop a model that can predict the most common type, Water, and use the lesssons learned here to move on to more complicated models.\n",
    "\n",
    "Let's start by cleaning up the data."
   ]
  },
  {
   "cell_type": "code",
   "execution_count": 47,
   "metadata": {},
   "outputs": [
    {
     "name": "stdout",
     "output_type": "stream",
     "text": [
      "There are 22 total features in the data set. \n",
      "\n",
      "['Name', 'Type_1', 'Type_2', 'Total', 'HP', 'Attack', 'Defense', 'Sp_Atk', 'Sp_Def', 'Speed', 'Generation', 'isLegendary', 'Color', 'hasGender', 'Pr_Male', 'Egg_Group_1', 'Egg_Group_2', 'hasMegaEvolution', 'Height_m', 'Weight_kg', 'Catch_Rate', 'Body_Style']\n",
      "\n",
      "Lets get rid of a few features that we wont need for this exercise.\n",
      "We will also get rid of all Legendary pokemon from the data for simplicity. \n",
      "\n",
      "This leaves us with the data set shown below.\n"
     ]
    },
    {
     "data": {
      "text/html": [
       "<div>\n",
       "<style>\n",
       "    .dataframe thead tr:only-child th {\n",
       "        text-align: right;\n",
       "    }\n",
       "\n",
       "    .dataframe thead th {\n",
       "        text-align: left;\n",
       "    }\n",
       "\n",
       "    .dataframe tbody tr th {\n",
       "        vertical-align: top;\n",
       "    }\n",
       "</style>\n",
       "<table border=\"1\" class=\"dataframe\">\n",
       "  <thead>\n",
       "    <tr style=\"text-align: right;\">\n",
       "      <th></th>\n",
       "      <th>Name</th>\n",
       "      <th>Type_1</th>\n",
       "      <th>Type_2</th>\n",
       "      <th>Total</th>\n",
       "      <th>HP</th>\n",
       "      <th>Attack</th>\n",
       "      <th>Defense</th>\n",
       "      <th>Sp_Atk</th>\n",
       "      <th>Sp_Def</th>\n",
       "      <th>Speed</th>\n",
       "      <th>Color</th>\n",
       "      <th>hasGender</th>\n",
       "      <th>Egg_Group_1</th>\n",
       "      <th>Egg_Group_2</th>\n",
       "      <th>Height_m</th>\n",
       "      <th>Weight_kg</th>\n",
       "      <th>Catch_Rate</th>\n",
       "      <th>Body_Style</th>\n",
       "    </tr>\n",
       "    <tr>\n",
       "      <th>Number</th>\n",
       "      <th></th>\n",
       "      <th></th>\n",
       "      <th></th>\n",
       "      <th></th>\n",
       "      <th></th>\n",
       "      <th></th>\n",
       "      <th></th>\n",
       "      <th></th>\n",
       "      <th></th>\n",
       "      <th></th>\n",
       "      <th></th>\n",
       "      <th></th>\n",
       "      <th></th>\n",
       "      <th></th>\n",
       "      <th></th>\n",
       "      <th></th>\n",
       "      <th></th>\n",
       "      <th></th>\n",
       "    </tr>\n",
       "  </thead>\n",
       "  <tbody>\n",
       "    <tr>\n",
       "      <th>1</th>\n",
       "      <td>Bulbasaur</td>\n",
       "      <td>Grass</td>\n",
       "      <td>Poison</td>\n",
       "      <td>318</td>\n",
       "      <td>45</td>\n",
       "      <td>49</td>\n",
       "      <td>49</td>\n",
       "      <td>65</td>\n",
       "      <td>65</td>\n",
       "      <td>45</td>\n",
       "      <td>Green</td>\n",
       "      <td>True</td>\n",
       "      <td>Monster</td>\n",
       "      <td>Grass</td>\n",
       "      <td>0.71</td>\n",
       "      <td>6.9</td>\n",
       "      <td>45</td>\n",
       "      <td>quadruped</td>\n",
       "    </tr>\n",
       "    <tr>\n",
       "      <th>2</th>\n",
       "      <td>Ivysaur</td>\n",
       "      <td>Grass</td>\n",
       "      <td>Poison</td>\n",
       "      <td>405</td>\n",
       "      <td>60</td>\n",
       "      <td>62</td>\n",
       "      <td>63</td>\n",
       "      <td>80</td>\n",
       "      <td>80</td>\n",
       "      <td>60</td>\n",
       "      <td>Green</td>\n",
       "      <td>True</td>\n",
       "      <td>Monster</td>\n",
       "      <td>Grass</td>\n",
       "      <td>0.99</td>\n",
       "      <td>13.0</td>\n",
       "      <td>45</td>\n",
       "      <td>quadruped</td>\n",
       "    </tr>\n",
       "    <tr>\n",
       "      <th>3</th>\n",
       "      <td>Venusaur</td>\n",
       "      <td>Grass</td>\n",
       "      <td>Poison</td>\n",
       "      <td>525</td>\n",
       "      <td>80</td>\n",
       "      <td>82</td>\n",
       "      <td>83</td>\n",
       "      <td>100</td>\n",
       "      <td>100</td>\n",
       "      <td>80</td>\n",
       "      <td>Green</td>\n",
       "      <td>True</td>\n",
       "      <td>Monster</td>\n",
       "      <td>Grass</td>\n",
       "      <td>2.01</td>\n",
       "      <td>100.0</td>\n",
       "      <td>45</td>\n",
       "      <td>quadruped</td>\n",
       "    </tr>\n",
       "    <tr>\n",
       "      <th>4</th>\n",
       "      <td>Charmander</td>\n",
       "      <td>Fire</td>\n",
       "      <td>NaN</td>\n",
       "      <td>309</td>\n",
       "      <td>39</td>\n",
       "      <td>52</td>\n",
       "      <td>43</td>\n",
       "      <td>60</td>\n",
       "      <td>50</td>\n",
       "      <td>65</td>\n",
       "      <td>Red</td>\n",
       "      <td>True</td>\n",
       "      <td>Monster</td>\n",
       "      <td>Dragon</td>\n",
       "      <td>0.61</td>\n",
       "      <td>8.5</td>\n",
       "      <td>45</td>\n",
       "      <td>bipedal_tailed</td>\n",
       "    </tr>\n",
       "    <tr>\n",
       "      <th>5</th>\n",
       "      <td>Charmeleon</td>\n",
       "      <td>Fire</td>\n",
       "      <td>NaN</td>\n",
       "      <td>405</td>\n",
       "      <td>58</td>\n",
       "      <td>64</td>\n",
       "      <td>58</td>\n",
       "      <td>80</td>\n",
       "      <td>65</td>\n",
       "      <td>80</td>\n",
       "      <td>Red</td>\n",
       "      <td>True</td>\n",
       "      <td>Monster</td>\n",
       "      <td>Dragon</td>\n",
       "      <td>1.09</td>\n",
       "      <td>19.0</td>\n",
       "      <td>45</td>\n",
       "      <td>bipedal_tailed</td>\n",
       "    </tr>\n",
       "  </tbody>\n",
       "</table>\n",
       "</div>"
      ],
      "text/plain": [
       "              Name Type_1  Type_2  Total  HP  Attack  Defense  Sp_Atk  Sp_Def  \\\n",
       "Number                                                                          \n",
       "1        Bulbasaur  Grass  Poison    318  45      49       49      65      65   \n",
       "2          Ivysaur  Grass  Poison    405  60      62       63      80      80   \n",
       "3         Venusaur  Grass  Poison    525  80      82       83     100     100   \n",
       "4       Charmander   Fire     NaN    309  39      52       43      60      50   \n",
       "5       Charmeleon   Fire     NaN    405  58      64       58      80      65   \n",
       "\n",
       "        Speed  Color  hasGender Egg_Group_1 Egg_Group_2  Height_m  Weight_kg  \\\n",
       "Number                                                                         \n",
       "1          45  Green       True     Monster       Grass      0.71        6.9   \n",
       "2          60  Green       True     Monster       Grass      0.99       13.0   \n",
       "3          80  Green       True     Monster       Grass      2.01      100.0   \n",
       "4          65    Red       True     Monster      Dragon      0.61        8.5   \n",
       "5          80    Red       True     Monster      Dragon      1.09       19.0   \n",
       "\n",
       "        Catch_Rate      Body_Style  \n",
       "Number                              \n",
       "1               45       quadruped  \n",
       "2               45       quadruped  \n",
       "3               45       quadruped  \n",
       "4               45  bipedal_tailed  \n",
       "5               45  bipedal_tailed  "
      ]
     },
     "execution_count": 47,
     "metadata": {},
     "output_type": "execute_result"
    }
   ],
   "source": [
    "df_master = pd.read_csv('../data/pokemon_alopez247.csv')\n",
    "df_master = df_master.set_index('Number')\n",
    "\n",
    "print 'There are %s total features in the data set. \\n' % len( list(df_master))\n",
    "print list(df_master)\n",
    "print ''\n",
    "print 'Let''s get rid of a few features that we won''t need for this exercise.'\n",
    "print 'We will also get rid of all Legendary pokemon from the data for simplicity. \\n'\n",
    "print 'This leaves us with the data set shown below.'\n",
    "\n",
    "df_master = df_master[ df_master.isLegendary == False]\n",
    "df_master = df_master.drop([ 'isLegendary', 'hasMegaEvolution', 'Generation', 'Pr_Male'], axis=1)\n",
    "df_master.head()"
   ]
  },
  {
   "cell_type": "markdown",
   "metadata": {},
   "source": [
    "Pokemon can take on a variety of different types. Lets take a look at the frequency of different Pokemon types by combining the feature values of `Type_1` and `Type_2`."
   ]
  },
  {
   "cell_type": "code",
   "execution_count": 4,
   "metadata": {},
   "outputs": [
    {
     "data": {
      "text/plain": [
       "<matplotlib.axes._subplots.AxesSubplot at 0x7f76f9d46fd0>"
      ]
     },
     "execution_count": 4,
     "metadata": {},
     "output_type": "execute_result"
    },
    {
     "data": {
      "image/png": "[encoded data removed]",
      "text/plain": [
       "<matplotlib.figure.Figure at 0x7f7730a20a10>"
      ]
     },
     "metadata": {},
     "output_type": "display_data"
    }
   ],
   "source": [
    "typeCombo = pd.Series( df_master['Type_1'].value_counts() + df_master['Type_2'].value_counts())\n",
    "typeCombo = typeCombo.sort_values( ascending=False)\n",
    "\n",
    "plt.figure( figsize=(8,6))\n",
    "plt.title( 'Type Frequency, cumulated over Type_1 and Type_2.', fontsize=14)\n",
    "typeCombo.plot( kind='bar')"
   ]
  },
  {
   "cell_type": "markdown",
   "metadata": {
    "collapsed": true
   },
   "source": [
    "As shown above, Water type is the most prevelant.\n",
    "\n",
    "Now let's turn our attention to trying to predict whether a pokemon is water type or not.\n",
    "\n",
    "## Data examination and preparation\n",
    "\n",
    "In order to perform our analysis we first need to transform the `Type_1` and `Type_2` features into a feature that indicates whether the pokemon is or is not water type. We will name this binary categorical feature `Water`."
   ]
  },
  {
   "cell_type": "code",
   "execution_count": 84,
   "metadata": {},
   "outputs": [
    {
     "data": {
      "text/html": [
       "<div>\n",
       "<style>\n",
       "    .dataframe thead tr:only-child th {\n",
       "        text-align: right;\n",
       "    }\n",
       "\n",
       "    .dataframe thead th {\n",
       "        text-align: left;\n",
       "    }\n",
       "\n",
       "    .dataframe tbody tr th {\n",
       "        vertical-align: top;\n",
       "    }\n",
       "</style>\n",
       "<table border=\"1\" class=\"dataframe\">\n",
       "  <thead>\n",
       "    <tr style=\"text-align: right;\">\n",
       "      <th></th>\n",
       "      <th>Water</th>\n",
       "      <th>Name</th>\n",
       "      <th>Total</th>\n",
       "      <th>HP</th>\n",
       "      <th>Attack</th>\n",
       "      <th>Defense</th>\n",
       "      <th>Sp_Atk</th>\n",
       "      <th>Sp_Def</th>\n",
       "      <th>Speed</th>\n",
       "      <th>Color</th>\n",
       "      <th>hasGender</th>\n",
       "      <th>Egg_Group_1</th>\n",
       "      <th>Egg_Group_2</th>\n",
       "      <th>Height_m</th>\n",
       "      <th>Weight_kg</th>\n",
       "      <th>Catch_Rate</th>\n",
       "      <th>Body_Style</th>\n",
       "    </tr>\n",
       "    <tr>\n",
       "      <th>Number</th>\n",
       "      <th></th>\n",
       "      <th></th>\n",
       "      <th></th>\n",
       "      <th></th>\n",
       "      <th></th>\n",
       "      <th></th>\n",
       "      <th></th>\n",
       "      <th></th>\n",
       "      <th></th>\n",
       "      <th></th>\n",
       "      <th></th>\n",
       "      <th></th>\n",
       "      <th></th>\n",
       "      <th></th>\n",
       "      <th></th>\n",
       "      <th></th>\n",
       "      <th></th>\n",
       "    </tr>\n",
       "  </thead>\n",
       "  <tbody>\n",
       "    <tr>\n",
       "      <th>1</th>\n",
       "      <td>0</td>\n",
       "      <td>Bulbasaur</td>\n",
       "      <td>318</td>\n",
       "      <td>45</td>\n",
       "      <td>49</td>\n",
       "      <td>49</td>\n",
       "      <td>65</td>\n",
       "      <td>65</td>\n",
       "      <td>45</td>\n",
       "      <td>Green</td>\n",
       "      <td>True</td>\n",
       "      <td>Monster</td>\n",
       "      <td>Grass</td>\n",
       "      <td>0.71</td>\n",
       "      <td>6.9</td>\n",
       "      <td>45</td>\n",
       "      <td>quadruped</td>\n",
       "    </tr>\n",
       "    <tr>\n",
       "      <th>2</th>\n",
       "      <td>0</td>\n",
       "      <td>Ivysaur</td>\n",
       "      <td>405</td>\n",
       "      <td>60</td>\n",
       "      <td>62</td>\n",
       "      <td>63</td>\n",
       "      <td>80</td>\n",
       "      <td>80</td>\n",
       "      <td>60</td>\n",
       "      <td>Green</td>\n",
       "      <td>True</td>\n",
       "      <td>Monster</td>\n",
       "      <td>Grass</td>\n",
       "      <td>0.99</td>\n",
       "      <td>13.0</td>\n",
       "      <td>45</td>\n",
       "      <td>quadruped</td>\n",
       "    </tr>\n",
       "    <tr>\n",
       "      <th>3</th>\n",
       "      <td>0</td>\n",
       "      <td>Venusaur</td>\n",
       "      <td>525</td>\n",
       "      <td>80</td>\n",
       "      <td>82</td>\n",
       "      <td>83</td>\n",
       "      <td>100</td>\n",
       "      <td>100</td>\n",
       "      <td>80</td>\n",
       "      <td>Green</td>\n",
       "      <td>True</td>\n",
       "      <td>Monster</td>\n",
       "      <td>Grass</td>\n",
       "      <td>2.01</td>\n",
       "      <td>100.0</td>\n",
       "      <td>45</td>\n",
       "      <td>quadruped</td>\n",
       "    </tr>\n",
       "    <tr>\n",
       "      <th>4</th>\n",
       "      <td>0</td>\n",
       "      <td>Charmander</td>\n",
       "      <td>309</td>\n",
       "      <td>39</td>\n",
       "      <td>52</td>\n",
       "      <td>43</td>\n",
       "      <td>60</td>\n",
       "      <td>50</td>\n",
       "      <td>65</td>\n",
       "      <td>Red</td>\n",
       "      <td>True</td>\n",
       "      <td>Monster</td>\n",
       "      <td>Dragon</td>\n",
       "      <td>0.61</td>\n",
       "      <td>8.5</td>\n",
       "      <td>45</td>\n",
       "      <td>bipedal_tailed</td>\n",
       "    </tr>\n",
       "    <tr>\n",
       "      <th>5</th>\n",
       "      <td>0</td>\n",
       "      <td>Charmeleon</td>\n",
       "      <td>405</td>\n",
       "      <td>58</td>\n",
       "      <td>64</td>\n",
       "      <td>58</td>\n",
       "      <td>80</td>\n",
       "      <td>65</td>\n",
       "      <td>80</td>\n",
       "      <td>Red</td>\n",
       "      <td>True</td>\n",
       "      <td>Monster</td>\n",
       "      <td>Dragon</td>\n",
       "      <td>1.09</td>\n",
       "      <td>19.0</td>\n",
       "      <td>45</td>\n",
       "      <td>bipedal_tailed</td>\n",
       "    </tr>\n",
       "  </tbody>\n",
       "</table>\n",
       "</div>"
      ],
      "text/plain": [
       "        Water        Name  Total  HP  Attack  Defense  Sp_Atk  Sp_Def  Speed  \\\n",
       "Number                                                                         \n",
       "1           0   Bulbasaur    318  45      49       49      65      65     45   \n",
       "2           0     Ivysaur    405  60      62       63      80      80     60   \n",
       "3           0    Venusaur    525  80      82       83     100     100     80   \n",
       "4           0  Charmander    309  39      52       43      60      50     65   \n",
       "5           0  Charmeleon    405  58      64       58      80      65     80   \n",
       "\n",
       "        Color  hasGender Egg_Group_1 Egg_Group_2  Height_m  Weight_kg  \\\n",
       "Number                                                                  \n",
       "1       Green       True     Monster       Grass      0.71        6.9   \n",
       "2       Green       True     Monster       Grass      0.99       13.0   \n",
       "3       Green       True     Monster       Grass      2.01      100.0   \n",
       "4         Red       True     Monster      Dragon      0.61        8.5   \n",
       "5         Red       True     Monster      Dragon      1.09       19.0   \n",
       "\n",
       "        Catch_Rate      Body_Style  \n",
       "Number                              \n",
       "1               45       quadruped  \n",
       "2               45       quadruped  \n",
       "3               45       quadruped  \n",
       "4               45  bipedal_tailed  \n",
       "5               45  bipedal_tailed  "
      ]
     },
     "execution_count": 84,
     "metadata": {},
     "output_type": "execute_result"
    }
   ],
   "source": [
    "df_water = df_master\n",
    "df_water.Type_2.loc[ df_master['Type_2'].isnull() == True] = ''\n",
    "typeSeries = df_water['Type_1'] + '|' + df_water['Type_2']\n",
    "typeMatrix = typeSeries.str.get_dummies('|')\n",
    "\n",
    "df_water = pd.merge( typeMatrix, df_water.drop([ 'Type_1', 'Type_2'], axis=1), left_index=True, right_index=True)\n",
    "df_water = df_water.drop(['Grass', 'Fire', 'Flying', 'Bug', 'Normal',\n",
    "                          'Poison', 'Electric', 'Ground', 'Fairy',\n",
    "                          'Fighting', 'Psychic', 'Rock', 'Ghost',\n",
    "                          'Ice', 'Dragon', 'Dark', 'Steel'], axis=1)\n",
    "\n",
    "df_water.head()"
   ]
  },
  {
   "cell_type": "markdown",
   "metadata": {},
   "source": [
    "Looking at the data, there a several features that are numerical data. I am curious as to see whether these numerical features are enough to predict whether a pokemon is a water type or not. Let's take a quick look at the numerical features to see if water types take on distribution of values distinct from non-water types."
   ]
  },
  {
   "cell_type": "code",
   "execution_count": 93,
   "metadata": {},
   "outputs": [
    {
     "data": {
      "image/png": "[encoded data removed]",
      "text/plain": [
       "<matplotlib.figure.Figure at 0x7f76f1040f10>"
      ]
     },
     "metadata": {},
     "output_type": "display_data"
    }
   ],
   "source": [
    "numFeatures = [ 'Total', 'Attack', 'Defense',\n",
    "                'Sp_Atk', 'Sp_Def', 'HP', 'Speed',\n",
    "                'Height_m', 'Weight_kg']\n",
    "\n",
    "for feature in numFeatures:\n",
    "    df_water[ feature] = df_water[ feature].astype('float64')\n",
    "\n",
    "plt.figure( figsize=(15,12))\n",
    "plt.subplots_adjust( hspace=0.2, wspace=0.3)     \n",
    "plt.legend( ['Not Water', 'Water'])\n",
    "for i, feat in enumerate( numFeatures):\n",
    "    iSubFig = i + 1\n",
    "    plt.subplot( 3, 3, iSubFig)\n",
    "    plt.hist( [df_water[feat][ df_water.Water==0],\n",
    "               df_water[feat][ df_water.Water==1]], normed=True, histtype='step', linewidth=5, alpha=0.7)\n",
    "    plt.title(feat+' Feature Distribution')\n",
    "    if i == 1:\n",
    "        plt.legend( ['Not Water', 'Water'])"
   ]
  },
  {
   "cell_type": "markdown",
   "metadata": {
    "collapsed": true
   },
   "source": [
    "As shown above, there is very little distinction between water and non-water types in these categories.\n",
    "Therefore using these features predict water type may not be effective. nonetheless, let's trying making a predictive model and see how well it performs."
   ]
  },
  {
   "cell_type": "code",
   "execution_count": 9,
   "metadata": {
    "collapsed": true
   },
   "outputs": [],
   "source": [
    "from sklearn.model_selection import train_test_split\n",
    "from sklearn.model_selection import KFold\n",
    "from sklearn.model_selection import cross_val_score\n",
    "from sklearn.model_selection import GridSearchCV\n",
    "from sklearn.linear_model    import LogisticRegression\n",
    "from sklearn.pipeline        import Pipeline\n",
    "from sklearn import metrics\n",
    "from sklearn import preprocessing"
   ]
  },
  {
   "cell_type": "code",
   "execution_count": 10,
   "metadata": {
    "collapsed": true
   },
   "outputs": [],
   "source": [
    "# gridsearch estimator\n",
    "pipe = Pipeline( steps=[( 'clfLog', LogisticRegression())] )\n",
    "estimator = GridSearchCV( pipe,\n",
    "                         dict( clfLog__C=np.logspace(-4, 4, 5)) )"
   ]
  },
  {
   "cell_type": "code",
   "execution_count": 11,
   "metadata": {
    "collapsed": true
   },
   "outputs": [],
   "source": [
    "# split data into features and output\n",
    "columnIdx = df_water.columns\n",
    "features  = df_water[ columnIdx[1:]]\n",
    "typeWater = df_water['Water']"
   ]
  },
  {
   "cell_type": "code",
   "execution_count": 12,
   "metadata": {},
   "outputs": [
    {
     "data": {
      "text/plain": [
       "GridSearchCV(cv=None, error_score='raise',\n",
       "       estimator=Pipeline(steps=[('clfLog', LogisticRegression(C=1.0, class_weight=None, dual=False, fit_intercept=True,\n",
       "          intercept_scaling=1, max_iter=100, multi_class='ovr', n_jobs=1,\n",
       "          penalty='l2', random_state=None, solver='liblinear', tol=0.0001,\n",
       "          verbose=0, warm_start=False))]),\n",
       "       fit_params={}, iid=True, n_jobs=1,\n",
       "       param_grid={'clfLog__C': array([  1.00000e-04,   1.00000e-02,   1.00000e+00,   1.00000e+02,\n",
       "         1.00000e+04])},\n",
       "       pre_dispatch='2*n_jobs', refit=True, return_train_score=True,\n",
       "       scoring=None, verbose=0)"
      ]
     },
     "execution_count": 12,
     "metadata": {},
     "output_type": "execute_result"
    }
   ],
   "source": [
    "estimator.fit( features, typeWater)"
   ]
  },
  {
   "cell_type": "code",
   "execution_count": 13,
   "metadata": {},
   "outputs": [
    {
     "data": {
      "text/plain": [
       "<matplotlib.text.Text at 0x7f76f3026c50>"
      ]
     },
     "execution_count": 13,
     "metadata": {},
     "output_type": "execute_result"
    },
    {
     "data": {
      "image/png": "[encoded data removed]",
      "text/plain": [
       "<matplotlib.figure.Figure at 0x7f76f9d59090>"
      ]
     },
     "metadata": {},
     "output_type": "display_data"
    }
   ],
   "source": [
    "clfLog_coef = estimator.best_estimator_.named_steps['clfLog'].coef_[0]\n",
    "features.columns\n",
    "sns.set_style(\"whitegrid\")\n",
    "sns.barplot( x=features.columns, y=abs(clfLog_coef))\n",
    "plt.xticks(rotation=90);\n",
    "plt.ylabel('Magnitude of Regression Coefficients')"
   ]
  },
  {
   "cell_type": "code",
   "execution_count": 14,
   "metadata": {},
   "outputs": [
    {
     "name": "stdout",
     "output_type": "stream",
     "text": [
      "Accuracy of model = 0.831\n"
     ]
    }
   ],
   "source": [
    "print 'Accuracy of model = %.3f'  % estimator.best_score_"
   ]
  },
  {
   "cell_type": "code",
   "execution_count": 15,
   "metadata": {},
   "outputs": [
    {
     "name": "stdout",
     "output_type": "stream",
     "text": [
      "Summary metrics for Logistic Regression: \n",
      "              precision    recall  f1-score   support\n",
      "\n",
      "          0       0.82      1.00      0.90       278\n",
      "          1       0.00      0.00      0.00        60\n",
      "\n",
      "avg / total       0.68      0.82      0.74       338\n",
      "\n"
     ]
    },
    {
     "name": "stderr",
     "output_type": "stream",
     "text": [
      "/home/julien/anaconda2/lib/python2.7/site-packages/sklearn/metrics/classification.py:1113: UndefinedMetricWarning: Precision and F-score are ill-defined and being set to 0.0 in labels with no predicted samples.\n",
      "  'precision', 'predicted', average, warn_for)\n"
     ]
    }
   ],
   "source": [
    "# get best performing model from estimator\n",
    "clf_log = estimator.best_estimator_\n",
    "# Make training and test data sets so that we can produce a classification report.\n",
    "X_train, X_test, y_train, y_test = train_test_split( features, typeWater, test_size=0.50, random_state=11)\n",
    "y_predict = clf_log.predict( X_test)\n",
    "print 'Summary metrics for Logistic Regression: \\n %s' \\\n",
    "        % metrics.classification_report( y_test, y_predict)"
   ]
  },
  {
   "cell_type": "markdown",
   "metadata": {
    "collapsed": true
   },
   "source": [
    "As you can see, although the model has an accuracy of 83%, in fact it did not perform very well since none of the water types (class = 1) were correctly predicted.\n",
    "\n",
    "### Battle Attribute Normalization\n",
    "\n",
    "Let's try some feature normalization in order to improve our results. We will normalize the pokemon battle attributes `HP`, `Attack`, `Defense`, `Sp_Atk`, `Sp_Def` and `Speed`. The sume of all these features is the Pokemon's `Total`. Some pokemon are inherently stronger than others, so they will have all around higher battle attributes than weaker pokemon. In order to have all pokemon on an even footing, we will normalize the battle features by the `Total`."
   ]
  },
  {
   "cell_type": "code",
   "execution_count": 16,
   "metadata": {
    "collapsed": true
   },
   "outputs": [],
   "source": [
    "battleFeatures = [ 'Attack', 'Defense', 'Sp_Atk', 'Sp_Def', 'HP', 'Speed']\n",
    "for b in battleFeatures:\n",
    "    df_water[b] = df_water[b] / df_water['Total']"
   ]
  },
  {
   "cell_type": "code",
   "execution_count": 17,
   "metadata": {},
   "outputs": [
    {
     "data": {
      "text/html": [
       "<div>\n",
       "<style>\n",
       "    .dataframe thead tr:only-child th {\n",
       "        text-align: right;\n",
       "    }\n",
       "\n",
       "    .dataframe thead th {\n",
       "        text-align: left;\n",
       "    }\n",
       "\n",
       "    .dataframe tbody tr th {\n",
       "        vertical-align: top;\n",
       "    }\n",
       "</style>\n",
       "<table border=\"1\" class=\"dataframe\">\n",
       "  <thead>\n",
       "    <tr style=\"text-align: right;\">\n",
       "      <th></th>\n",
       "      <th>Water</th>\n",
       "      <th>Total</th>\n",
       "      <th>HP</th>\n",
       "      <th>Attack</th>\n",
       "      <th>Defense</th>\n",
       "      <th>Sp_Atk</th>\n",
       "      <th>Sp_Def</th>\n",
       "      <th>Speed</th>\n",
       "      <th>hasGender</th>\n",
       "      <th>Height_m</th>\n",
       "      <th>Weight_kg</th>\n",
       "      <th>Catch_Rate</th>\n",
       "    </tr>\n",
       "    <tr>\n",
       "      <th>Number</th>\n",
       "      <th></th>\n",
       "      <th></th>\n",
       "      <th></th>\n",
       "      <th></th>\n",
       "      <th></th>\n",
       "      <th></th>\n",
       "      <th></th>\n",
       "      <th></th>\n",
       "      <th></th>\n",
       "      <th></th>\n",
       "      <th></th>\n",
       "      <th></th>\n",
       "    </tr>\n",
       "  </thead>\n",
       "  <tbody>\n",
       "    <tr>\n",
       "      <th>1</th>\n",
       "      <td>0</td>\n",
       "      <td>318.0</td>\n",
       "      <td>0.141509</td>\n",
       "      <td>0.154088</td>\n",
       "      <td>0.154088</td>\n",
       "      <td>0.204403</td>\n",
       "      <td>0.204403</td>\n",
       "      <td>0.141509</td>\n",
       "      <td>1.0</td>\n",
       "      <td>0.71</td>\n",
       "      <td>6.9</td>\n",
       "      <td>45.0</td>\n",
       "    </tr>\n",
       "    <tr>\n",
       "      <th>2</th>\n",
       "      <td>0</td>\n",
       "      <td>405.0</td>\n",
       "      <td>0.148148</td>\n",
       "      <td>0.153086</td>\n",
       "      <td>0.155556</td>\n",
       "      <td>0.197531</td>\n",
       "      <td>0.197531</td>\n",
       "      <td>0.148148</td>\n",
       "      <td>1.0</td>\n",
       "      <td>0.99</td>\n",
       "      <td>13.0</td>\n",
       "      <td>45.0</td>\n",
       "    </tr>\n",
       "    <tr>\n",
       "      <th>3</th>\n",
       "      <td>0</td>\n",
       "      <td>525.0</td>\n",
       "      <td>0.152381</td>\n",
       "      <td>0.156190</td>\n",
       "      <td>0.158095</td>\n",
       "      <td>0.190476</td>\n",
       "      <td>0.190476</td>\n",
       "      <td>0.152381</td>\n",
       "      <td>1.0</td>\n",
       "      <td>2.01</td>\n",
       "      <td>100.0</td>\n",
       "      <td>45.0</td>\n",
       "    </tr>\n",
       "    <tr>\n",
       "      <th>4</th>\n",
       "      <td>0</td>\n",
       "      <td>309.0</td>\n",
       "      <td>0.126214</td>\n",
       "      <td>0.168285</td>\n",
       "      <td>0.139159</td>\n",
       "      <td>0.194175</td>\n",
       "      <td>0.161812</td>\n",
       "      <td>0.210356</td>\n",
       "      <td>1.0</td>\n",
       "      <td>0.61</td>\n",
       "      <td>8.5</td>\n",
       "      <td>45.0</td>\n",
       "    </tr>\n",
       "    <tr>\n",
       "      <th>5</th>\n",
       "      <td>0</td>\n",
       "      <td>405.0</td>\n",
       "      <td>0.143210</td>\n",
       "      <td>0.158025</td>\n",
       "      <td>0.143210</td>\n",
       "      <td>0.197531</td>\n",
       "      <td>0.160494</td>\n",
       "      <td>0.197531</td>\n",
       "      <td>1.0</td>\n",
       "      <td>1.09</td>\n",
       "      <td>19.0</td>\n",
       "      <td>45.0</td>\n",
       "    </tr>\n",
       "  </tbody>\n",
       "</table>\n",
       "</div>"
      ],
      "text/plain": [
       "        Water  Total        HP    Attack   Defense    Sp_Atk    Sp_Def  \\\n",
       "Number                                                                   \n",
       "1           0  318.0  0.141509  0.154088  0.154088  0.204403  0.204403   \n",
       "2           0  405.0  0.148148  0.153086  0.155556  0.197531  0.197531   \n",
       "3           0  525.0  0.152381  0.156190  0.158095  0.190476  0.190476   \n",
       "4           0  309.0  0.126214  0.168285  0.139159  0.194175  0.161812   \n",
       "5           0  405.0  0.143210  0.158025  0.143210  0.197531  0.160494   \n",
       "\n",
       "           Speed  hasGender  Height_m  Weight_kg  Catch_Rate  \n",
       "Number                                                        \n",
       "1       0.141509        1.0      0.71        6.9        45.0  \n",
       "2       0.148148        1.0      0.99       13.0        45.0  \n",
       "3       0.152381        1.0      2.01      100.0        45.0  \n",
       "4       0.210356        1.0      0.61        8.5        45.0  \n",
       "5       0.197531        1.0      1.09       19.0        45.0  "
      ]
     },
     "execution_count": 17,
     "metadata": {},
     "output_type": "execute_result"
    }
   ],
   "source": [
    "# split data into features and output\n",
    "columnIdx = df_water.columns\n",
    "features  = df_water[ columnIdx[1:]]\n",
    "typeWater = df_water['Water']\n",
    "\n",
    "df_water.head()"
   ]
  },
  {
   "cell_type": "code",
   "execution_count": 18,
   "metadata": {},
   "outputs": [
    {
     "name": "stdout",
     "output_type": "stream",
     "text": [
      "Accuracy of model = 0.831\n"
     ]
    },
    {
     "data": {
      "text/plain": [
       "<matplotlib.text.Text at 0x7f76f2e97290>"
      ]
     },
     "execution_count": 18,
     "metadata": {},
     "output_type": "execute_result"
    },
    {
     "data": {
      "image/png": "[encoded data removed]",
      "text/plain": [
       "<matplotlib.figure.Figure at 0x7f76f64bd390>"
      ]
     },
     "metadata": {},
     "output_type": "display_data"
    }
   ],
   "source": [
    "# gridsearch estimator\n",
    "pipe = Pipeline( steps=[( 'clfLog', LogisticRegression())] )\n",
    "estimator = GridSearchCV( pipe,\n",
    "                         dict( clfLog__C=np.logspace(-4, 4, 5)) )\n",
    "\n",
    "estimator.fit( features, typeWater)\n",
    "print 'Accuracy of model = %.3f'  % estimator.best_score_\n",
    "\n",
    "clfLog_coef = estimator.best_estimator_.named_steps['clfLog'].coef_[0]\n",
    "features.columns\n",
    "sns.set_style(\"whitegrid\")\n",
    "sns.barplot( x=features.columns, y=abs(clfLog_coef))\n",
    "plt.xticks(rotation=90);\n",
    "plt.ylabel('Magnitude of Regression Coefficients')"
   ]
  },
  {
   "cell_type": "code",
   "execution_count": 19,
   "metadata": {},
   "outputs": [
    {
     "name": "stdout",
     "output_type": "stream",
     "text": [
      "Summary metrics for Logistic Regression: \n",
      "              precision    recall  f1-score   support\n",
      "\n",
      "          0       0.82      1.00      0.90       278\n",
      "          1       0.00      0.00      0.00        60\n",
      "\n",
      "avg / total       0.68      0.82      0.74       338\n",
      "\n"
     ]
    }
   ],
   "source": [
    "# get best performing model from estimator\n",
    "clf_log = estimator.best_estimator_\n",
    "# Make training and test data sets so that we can produce a classification report.\n",
    "X_train, X_test, y_train, y_test = train_test_split( features, typeWater, test_size=0.50, random_state=11)\n",
    "y_predict = clf_log.predict( X_test)\n",
    "print 'Summary metrics for Logistic Regression: \\n %s' \\\n",
    "        % metrics.classification_report( y_test, y_predict)"
   ]
  },
  {
   "cell_type": "markdown",
   "metadata": {},
   "source": [
    "In the above model, we normalized the battle attributes by `Total` but kept the other features as they were. This caused the a drastic change in the distribution of the regression coefficients.\n",
    "\n",
    "Let's standardize the `Total`, `Height_m`, `Weight_kg` and `Catch_Rate` features in order to avoid this."
   ]
  },
  {
   "cell_type": "code",
   "execution_count": 20,
   "metadata": {},
   "outputs": [
    {
     "data": {
      "text/html": [
       "<div>\n",
       "<style>\n",
       "    .dataframe thead tr:only-child th {\n",
       "        text-align: right;\n",
       "    }\n",
       "\n",
       "    .dataframe thead th {\n",
       "        text-align: left;\n",
       "    }\n",
       "\n",
       "    .dataframe tbody tr th {\n",
       "        vertical-align: top;\n",
       "    }\n",
       "</style>\n",
       "<table border=\"1\" class=\"dataframe\">\n",
       "  <thead>\n",
       "    <tr style=\"text-align: right;\">\n",
       "      <th></th>\n",
       "      <th>Water</th>\n",
       "      <th>Total</th>\n",
       "      <th>HP</th>\n",
       "      <th>Attack</th>\n",
       "      <th>Defense</th>\n",
       "      <th>Sp_Atk</th>\n",
       "      <th>Sp_Def</th>\n",
       "      <th>Speed</th>\n",
       "      <th>hasGender</th>\n",
       "      <th>Height_m</th>\n",
       "      <th>Weight_kg</th>\n",
       "      <th>Catch_Rate</th>\n",
       "    </tr>\n",
       "    <tr>\n",
       "      <th>Number</th>\n",
       "      <th></th>\n",
       "      <th></th>\n",
       "      <th></th>\n",
       "      <th></th>\n",
       "      <th></th>\n",
       "      <th></th>\n",
       "      <th></th>\n",
       "      <th></th>\n",
       "      <th></th>\n",
       "      <th></th>\n",
       "      <th></th>\n",
       "      <th></th>\n",
       "    </tr>\n",
       "  </thead>\n",
       "  <tbody>\n",
       "    <tr>\n",
       "      <th>1</th>\n",
       "      <td>0</td>\n",
       "      <td>-0.874175</td>\n",
       "      <td>0.141509</td>\n",
       "      <td>0.154088</td>\n",
       "      <td>0.154088</td>\n",
       "      <td>0.204403</td>\n",
       "      <td>0.204403</td>\n",
       "      <td>0.141509</td>\n",
       "      <td>1.0</td>\n",
       "      <td>-0.377269</td>\n",
       "      <td>-0.606716</td>\n",
       "      <td>-0.822972</td>\n",
       "    </tr>\n",
       "    <tr>\n",
       "      <th>2</th>\n",
       "      <td>0</td>\n",
       "      <td>0.008507</td>\n",
       "      <td>0.148148</td>\n",
       "      <td>0.153086</td>\n",
       "      <td>0.155556</td>\n",
       "      <td>0.197531</td>\n",
       "      <td>0.197531</td>\n",
       "      <td>0.148148</td>\n",
       "      <td>1.0</td>\n",
       "      <td>-0.072030</td>\n",
       "      <td>-0.514169</td>\n",
       "      <td>-0.822972</td>\n",
       "    </tr>\n",
       "    <tr>\n",
       "      <th>3</th>\n",
       "      <td>0</td>\n",
       "      <td>1.226001</td>\n",
       "      <td>0.152381</td>\n",
       "      <td>0.156190</td>\n",
       "      <td>0.158095</td>\n",
       "      <td>0.190476</td>\n",
       "      <td>0.190476</td>\n",
       "      <td>0.152381</td>\n",
       "      <td>1.0</td>\n",
       "      <td>1.039913</td>\n",
       "      <td>0.805761</td>\n",
       "      <td>-0.822972</td>\n",
       "    </tr>\n",
       "    <tr>\n",
       "      <th>4</th>\n",
       "      <td>0</td>\n",
       "      <td>-0.965487</td>\n",
       "      <td>0.126214</td>\n",
       "      <td>0.168285</td>\n",
       "      <td>0.139159</td>\n",
       "      <td>0.194175</td>\n",
       "      <td>0.161812</td>\n",
       "      <td>0.210356</td>\n",
       "      <td>1.0</td>\n",
       "      <td>-0.486283</td>\n",
       "      <td>-0.582441</td>\n",
       "      <td>-0.822972</td>\n",
       "    </tr>\n",
       "    <tr>\n",
       "      <th>5</th>\n",
       "      <td>0</td>\n",
       "      <td>0.008507</td>\n",
       "      <td>0.143210</td>\n",
       "      <td>0.158025</td>\n",
       "      <td>0.143210</td>\n",
       "      <td>0.197531</td>\n",
       "      <td>0.160494</td>\n",
       "      <td>0.197531</td>\n",
       "      <td>1.0</td>\n",
       "      <td>0.036984</td>\n",
       "      <td>-0.423139</td>\n",
       "      <td>-0.822972</td>\n",
       "    </tr>\n",
       "  </tbody>\n",
       "</table>\n",
       "</div>"
      ],
      "text/plain": [
       "        Water     Total        HP    Attack   Defense    Sp_Atk    Sp_Def  \\\n",
       "Number                                                                      \n",
       "1           0 -0.874175  0.141509  0.154088  0.154088  0.204403  0.204403   \n",
       "2           0  0.008507  0.148148  0.153086  0.155556  0.197531  0.197531   \n",
       "3           0  1.226001  0.152381  0.156190  0.158095  0.190476  0.190476   \n",
       "4           0 -0.965487  0.126214  0.168285  0.139159  0.194175  0.161812   \n",
       "5           0  0.008507  0.143210  0.158025  0.143210  0.197531  0.160494   \n",
       "\n",
       "           Speed  hasGender  Height_m  Weight_kg  Catch_Rate  \n",
       "Number                                                        \n",
       "1       0.141509        1.0 -0.377269  -0.606716   -0.822972  \n",
       "2       0.148148        1.0 -0.072030  -0.514169   -0.822972  \n",
       "3       0.152381        1.0  1.039913   0.805761   -0.822972  \n",
       "4       0.210356        1.0 -0.486283  -0.582441   -0.822972  \n",
       "5       0.197531        1.0  0.036984  -0.423139   -0.822972  "
      ]
     },
     "execution_count": 20,
     "metadata": {},
     "output_type": "execute_result"
    }
   ],
   "source": [
    "scaler = preprocessing.StandardScaler()\n",
    "scaler.fit( df_water[ [ 'Total', 'Height_m', 'Weight_kg', 'Catch_Rate']] )\n",
    "#print scaler.mean_\n",
    "#print scaler.transform( df_water[ [ 'Total', 'Height_m', 'Weight_kg', 'Catch_Rate']])\n",
    "df_water[ [ 'Total', 'Height_m', 'Weight_kg', 'Catch_Rate']] = scaler.transform( df_water[ [ 'Total', 'Height_m', 'Weight_kg', 'Catch_Rate']])\n",
    "\n",
    "features  = df_water[ columnIdx[1:]]\n",
    "typeWater = df_water['Water']\n",
    "\n",
    "df_water.head()"
   ]
  },
  {
   "cell_type": "code",
   "execution_count": 21,
   "metadata": {},
   "outputs": [
    {
     "name": "stdout",
     "output_type": "stream",
     "text": [
      "Accuracy of model = 0.831\n"
     ]
    },
    {
     "data": {
      "text/plain": [
       "<matplotlib.text.Text at 0x7f76f2ef96d0>"
      ]
     },
     "execution_count": 21,
     "metadata": {},
     "output_type": "execute_result"
    },
    {
     "data": {
      "image/png": "[encoded data removed]",
      "text/plain": [
       "<matplotlib.figure.Figure at 0x7f76f2f08090>"
      ]
     },
     "metadata": {},
     "output_type": "display_data"
    }
   ],
   "source": [
    "# gridsearch estimator\n",
    "pipe = Pipeline( steps=[( 'clfLog', LogisticRegression())] )\n",
    "estimator = GridSearchCV( pipe,\n",
    "                         dict( clfLog__C=np.logspace(-4, 4, 5)) )\n",
    "\n",
    "estimator.fit( features, typeWater)\n",
    "print 'Accuracy of model = %.3f'  % estimator.best_score_\n",
    "\n",
    "clfLog_coef = estimator.best_estimator_.named_steps['clfLog'].coef_[0]\n",
    "features.columns\n",
    "sns.set_style(\"whitegrid\")\n",
    "sns.barplot( x=features.columns, y=abs(clfLog_coef))\n",
    "plt.xticks(rotation=90);\n",
    "plt.ylabel('Magnitude of Regression Coefficients')"
   ]
  },
  {
   "cell_type": "code",
   "execution_count": 22,
   "metadata": {},
   "outputs": [
    {
     "name": "stdout",
     "output_type": "stream",
     "text": [
      "Summary metrics for Logistic Regression: \n",
      "              precision    recall  f1-score   support\n",
      "\n",
      "          0       0.82      1.00      0.90       278\n",
      "          1       0.00      0.00      0.00        60\n",
      "\n",
      "avg / total       0.68      0.82      0.74       338\n",
      "\n"
     ]
    }
   ],
   "source": [
    "# get best performing model from estimator\n",
    "clf_log = estimator.best_estimator_\n",
    "# Make training and test data sets so that we can produce a classification report.\n",
    "X_train, X_test, y_train, y_test = train_test_split( features, typeWater, test_size=0.50, random_state=11)\n",
    "y_predict = clf_log.predict( X_test)\n",
    "print 'Summary metrics for Logistic Regression: \\n %s' \\\n",
    "        % metrics.classification_report( y_test, y_predict)"
   ]
  },
  {
   "cell_type": "markdown",
   "metadata": {
    "collapsed": true
   },
   "source": [
    "Normalizing the other features did not change the results. Let's try normalizing all features."
   ]
  },
  {
   "cell_type": "code",
   "execution_count": 23,
   "metadata": {},
   "outputs": [
    {
     "name": "stdout",
     "output_type": "stream",
     "text": [
      "Accuracy of model = 0.830\n"
     ]
    },
    {
     "data": {
      "image/png": "[encoded data removed]",
      "text/plain": [
       "<matplotlib.figure.Figure at 0x7f76f2f080d0>"
      ]
     },
     "metadata": {},
     "output_type": "display_data"
    },
    {
     "name": "stdout",
     "output_type": "stream",
     "text": [
      "Summary metrics for Logistic Regression: \n",
      "              precision    recall  f1-score   support\n",
      "\n",
      "          0       0.82      1.00      0.90       278\n",
      "          1       1.00      0.02      0.03        60\n",
      "\n",
      "avg / total       0.86      0.83      0.75       338\n",
      "\n"
     ]
    }
   ],
   "source": [
    "featureList = ['HP', 'Attack', 'Defense', 'Sp_Atk', 'Sp_Def', 'Speed', 'hasGender']\n",
    "\n",
    "scaler = preprocessing.StandardScaler()\n",
    "scaler.fit( df_water[ featureList] )\n",
    "df_water[ featureList] = scaler.transform( df_water[ featureList])\n",
    "\n",
    "features  = df_water[ columnIdx[1:]]\n",
    "typeWater = df_water['Water']\n",
    "\n",
    "df_water.head()\n",
    "\n",
    "# gridsearch estimator\n",
    "pipe = Pipeline( steps=[( 'clfLog', LogisticRegression())] )\n",
    "estimator = GridSearchCV( pipe,\n",
    "                         dict( clfLog__C=np.logspace(-4, 4, 5)) )\n",
    "\n",
    "estimator.fit( features, typeWater)\n",
    "print 'Accuracy of model = %.3f'  % estimator.best_score_\n",
    "\n",
    "clfLog_coef = estimator.best_estimator_.named_steps['clfLog'].coef_[0]\n",
    "features.columns\n",
    "sns.set_style(\"whitegrid\")\n",
    "sns.barplot( x=features.columns, y=abs(clfLog_coef))\n",
    "plt.xticks(rotation=90);\n",
    "plt.ylabel('Magnitude of Regression Coefficients')\n",
    "plt.show()\n",
    "\n",
    "# get best performing model from estimator\n",
    "clf_log = estimator.best_estimator_\n",
    "# Make training and test data sets so that we can produce a classification report.\n",
    "X_train, X_test, y_train, y_test = train_test_split( features, typeWater, test_size=0.50, random_state=11)\n",
    "y_predict = clf_log.predict( X_test)\n",
    "print 'Summary metrics for Logistic Regression: \\n %s' \\\n",
    "        % metrics.classification_report( y_test, y_predict)"
   ]
  },
  {
   "cell_type": "code",
   "execution_count": 24,
   "metadata": {},
   "outputs": [
    {
     "data": {
      "text/plain": [
       "<matplotlib.axes._subplots.AxesSubplot at 0x7f76f2d00110>"
      ]
     },
     "execution_count": 24,
     "metadata": {},
     "output_type": "execute_result"
    },
    {
     "data": {
      "image/png": "[encoded data removed]",
      "text/plain": [
       "<matplotlib.figure.Figure at 0x7f76f2f08050>"
      ]
     },
     "metadata": {},
     "output_type": "display_data"
    }
   ],
   "source": [
    "df_cm = pd.DataFrame( metrics.confusion_matrix( y_test,  y_predict),\n",
    "                     index=[ 'Not Water', 'Water'], columns=[ 'Not Water', 'Water'])\n",
    "plt.figure(figsize = (5,4))\n",
    "sns.heatmap(df_cm, annot=True)"
   ]
  },
  {
   "cell_type": "markdown",
   "metadata": {},
   "source": [
    "Above is a matrix of the true values of the data (vertical axis) and the predicted values (horizontal axis). All non-water types were correctly predicted as such, but only one water type was correctly classified.\n",
    "\n",
    "We are starting to get some water type predictions out of the model, but only one pokemon was correctly predicted as a water type."
   ]
  },
  {
   "cell_type": "markdown",
   "metadata": {},
   "source": [
    "## Adding additional features to the model\n",
    "\n",
    "Let's see if other features of the pokemon can improve our model's accuracy."
   ]
  },
  {
   "cell_type": "code",
   "execution_count": 25,
   "metadata": {},
   "outputs": [
    {
     "data": {
      "text/plain": [
       "<matplotlib.text.Text at 0x7f76f29b2810>"
      ]
     },
     "execution_count": 25,
     "metadata": {},
     "output_type": "execute_result"
    },
    {
     "data": {
      "image/png": "[encoded data removed]",
      "text/plain": [
       "<matplotlib.figure.Figure at 0x7f76f2dc44d0>"
      ]
     },
     "metadata": {},
     "output_type": "display_data"
    }
   ],
   "source": [
    "df_master[ df_water.Water==1].Color.value_counts().plot( kind='bar')\n",
    "plt.title('Water Type Pokemon Color Frequency')"
   ]
  },
  {
   "cell_type": "markdown",
   "metadata": {},
   "source": [
    "Unsurprisingly, the vast majority of water type pokemon are blue in color.\n",
    "\n",
    "As shown below, water type pokemon also come predominantly from a few different types of egg groups and body styles.\n",
    "\n",
    "Therefore, let's use this information to predict water type."
   ]
  },
  {
   "cell_type": "code",
   "execution_count": 26,
   "metadata": {},
   "outputs": [
    {
     "data": {
      "text/plain": [
       "<matplotlib.axes._subplots.AxesSubplot at 0x7f76f285fb10>"
      ]
     },
     "execution_count": 26,
     "metadata": {},
     "output_type": "execute_result"
    },
    {
     "data": {
      "image/png": "[encoded data removed]",
      "text/plain": [
       "<matplotlib.figure.Figure at 0x7f76f29fe390>"
      ]
     },
     "metadata": {},
     "output_type": "display_data"
    }
   ],
   "source": [
    "plt.figure( figsize=(15,4))\n",
    "plt.subplots_adjust( hspace=0.4, wspace=0.2)\n",
    "\n",
    "plt.subplot(1,3,1)\n",
    "plt.title('Egg Group 1 Frequency')\n",
    "df_master[ df_water.Water==1].Egg_Group_1.value_counts().plot( kind='bar')\n",
    "\n",
    "plt.subplot(1,3,2)\n",
    "plt.title('Egg Group 2 Frequency')\n",
    "df_master[ df_water.Water==1].Egg_Group_2.value_counts().plot( kind='bar')\n",
    "\n",
    "plt.subplot(1,3,3)\n",
    "plt.title('Body Style Frequency')\n",
    "df_master[ df_water.Water==1].Body_Style.value_counts().plot( kind='bar')"
   ]
  },
  {
   "cell_type": "code",
   "execution_count": 27,
   "metadata": {},
   "outputs": [
    {
     "data": {
      "text/html": [
       "<div>\n",
       "<style>\n",
       "    .dataframe thead tr:only-child th {\n",
       "        text-align: right;\n",
       "    }\n",
       "\n",
       "    .dataframe thead th {\n",
       "        text-align: left;\n",
       "    }\n",
       "\n",
       "    .dataframe tbody tr th {\n",
       "        vertical-align: top;\n",
       "    }\n",
       "</style>\n",
       "<table border=\"1\" class=\"dataframe\">\n",
       "  <thead>\n",
       "    <tr style=\"text-align: right;\">\n",
       "      <th></th>\n",
       "      <th>Water</th>\n",
       "      <th>Color</th>\n",
       "      <th>Egg_Group_1</th>\n",
       "      <th>Egg_Group_2</th>\n",
       "      <th>Body_Style</th>\n",
       "    </tr>\n",
       "    <tr>\n",
       "      <th>Number</th>\n",
       "      <th></th>\n",
       "      <th></th>\n",
       "      <th></th>\n",
       "      <th></th>\n",
       "      <th></th>\n",
       "    </tr>\n",
       "  </thead>\n",
       "  <tbody>\n",
       "    <tr>\n",
       "      <th>1</th>\n",
       "      <td>0</td>\n",
       "      <td>Green</td>\n",
       "      <td>Monster</td>\n",
       "      <td>Grass</td>\n",
       "      <td>quadruped</td>\n",
       "    </tr>\n",
       "    <tr>\n",
       "      <th>2</th>\n",
       "      <td>0</td>\n",
       "      <td>Green</td>\n",
       "      <td>Monster</td>\n",
       "      <td>Grass</td>\n",
       "      <td>quadruped</td>\n",
       "    </tr>\n",
       "    <tr>\n",
       "      <th>3</th>\n",
       "      <td>0</td>\n",
       "      <td>Green</td>\n",
       "      <td>Monster</td>\n",
       "      <td>Grass</td>\n",
       "      <td>quadruped</td>\n",
       "    </tr>\n",
       "    <tr>\n",
       "      <th>4</th>\n",
       "      <td>0</td>\n",
       "      <td>Red</td>\n",
       "      <td>Monster</td>\n",
       "      <td>Dragon</td>\n",
       "      <td>bipedal_tailed</td>\n",
       "    </tr>\n",
       "    <tr>\n",
       "      <th>5</th>\n",
       "      <td>0</td>\n",
       "      <td>Red</td>\n",
       "      <td>Monster</td>\n",
       "      <td>Dragon</td>\n",
       "      <td>bipedal_tailed</td>\n",
       "    </tr>\n",
       "  </tbody>\n",
       "</table>\n",
       "</div>"
      ],
      "text/plain": [
       "        Water  Color Egg_Group_1 Egg_Group_2      Body_Style\n",
       "Number                                                      \n",
       "1           0  Green     Monster       Grass       quadruped\n",
       "2           0  Green     Monster       Grass       quadruped\n",
       "3           0  Green     Monster       Grass       quadruped\n",
       "4           0    Red     Monster      Dragon  bipedal_tailed\n",
       "5           0    Red     Monster      Dragon  bipedal_tailed"
      ]
     },
     "execution_count": 27,
     "metadata": {},
     "output_type": "execute_result"
    }
   ],
   "source": [
    "dfList = [ df_water['Water'], df_master[ ['Color', 'Egg_Group_1', 'Egg_Group_2', 'Body_Style']] ]\n",
    "df_w2  = pd.concat( dfList, axis=1)\n",
    "df_w2.head()"
   ]
  },
  {
   "cell_type": "code",
   "execution_count": 28,
   "metadata": {},
   "outputs": [
    {
     "data": {
      "text/html": [
       "<div>\n",
       "<style>\n",
       "    .dataframe thead tr:only-child th {\n",
       "        text-align: right;\n",
       "    }\n",
       "\n",
       "    .dataframe thead th {\n",
       "        text-align: left;\n",
       "    }\n",
       "\n",
       "    .dataframe tbody tr th {\n",
       "        vertical-align: top;\n",
       "    }\n",
       "</style>\n",
       "<table border=\"1\" class=\"dataframe\">\n",
       "  <thead>\n",
       "    <tr style=\"text-align: right;\">\n",
       "      <th></th>\n",
       "      <th>Amorphous</th>\n",
       "      <th>Bug</th>\n",
       "      <th>Dragon</th>\n",
       "      <th>Fairy</th>\n",
       "      <th>Field</th>\n",
       "      <th>Flying</th>\n",
       "      <th>Grass</th>\n",
       "      <th>Human-Like</th>\n",
       "      <th>Mineral</th>\n",
       "      <th>Monster</th>\n",
       "      <th>Water_1</th>\n",
       "      <th>Water_2</th>\n",
       "      <th>Water_3</th>\n",
       "    </tr>\n",
       "    <tr>\n",
       "      <th>Number</th>\n",
       "      <th></th>\n",
       "      <th></th>\n",
       "      <th></th>\n",
       "      <th></th>\n",
       "      <th></th>\n",
       "      <th></th>\n",
       "      <th></th>\n",
       "      <th></th>\n",
       "      <th></th>\n",
       "      <th></th>\n",
       "      <th></th>\n",
       "      <th></th>\n",
       "      <th></th>\n",
       "    </tr>\n",
       "  </thead>\n",
       "  <tbody>\n",
       "    <tr>\n",
       "      <th>706</th>\n",
       "      <td>0</td>\n",
       "      <td>0</td>\n",
       "      <td>1</td>\n",
       "      <td>0</td>\n",
       "      <td>0</td>\n",
       "      <td>0</td>\n",
       "      <td>0</td>\n",
       "      <td>0</td>\n",
       "      <td>0</td>\n",
       "      <td>0</td>\n",
       "      <td>0</td>\n",
       "      <td>0</td>\n",
       "      <td>0</td>\n",
       "    </tr>\n",
       "    <tr>\n",
       "      <th>707</th>\n",
       "      <td>0</td>\n",
       "      <td>0</td>\n",
       "      <td>0</td>\n",
       "      <td>0</td>\n",
       "      <td>0</td>\n",
       "      <td>0</td>\n",
       "      <td>0</td>\n",
       "      <td>0</td>\n",
       "      <td>1</td>\n",
       "      <td>0</td>\n",
       "      <td>0</td>\n",
       "      <td>0</td>\n",
       "      <td>0</td>\n",
       "    </tr>\n",
       "    <tr>\n",
       "      <th>708</th>\n",
       "      <td>1</td>\n",
       "      <td>0</td>\n",
       "      <td>0</td>\n",
       "      <td>0</td>\n",
       "      <td>0</td>\n",
       "      <td>0</td>\n",
       "      <td>1</td>\n",
       "      <td>0</td>\n",
       "      <td>0</td>\n",
       "      <td>0</td>\n",
       "      <td>0</td>\n",
       "      <td>0</td>\n",
       "      <td>0</td>\n",
       "    </tr>\n",
       "    <tr>\n",
       "      <th>709</th>\n",
       "      <td>1</td>\n",
       "      <td>0</td>\n",
       "      <td>0</td>\n",
       "      <td>0</td>\n",
       "      <td>0</td>\n",
       "      <td>0</td>\n",
       "      <td>1</td>\n",
       "      <td>0</td>\n",
       "      <td>0</td>\n",
       "      <td>0</td>\n",
       "      <td>0</td>\n",
       "      <td>0</td>\n",
       "      <td>0</td>\n",
       "    </tr>\n",
       "    <tr>\n",
       "      <th>710</th>\n",
       "      <td>1</td>\n",
       "      <td>0</td>\n",
       "      <td>0</td>\n",
       "      <td>0</td>\n",
       "      <td>0</td>\n",
       "      <td>0</td>\n",
       "      <td>0</td>\n",
       "      <td>0</td>\n",
       "      <td>0</td>\n",
       "      <td>0</td>\n",
       "      <td>0</td>\n",
       "      <td>0</td>\n",
       "      <td>0</td>\n",
       "    </tr>\n",
       "    <tr>\n",
       "      <th>711</th>\n",
       "      <td>1</td>\n",
       "      <td>0</td>\n",
       "      <td>0</td>\n",
       "      <td>0</td>\n",
       "      <td>0</td>\n",
       "      <td>0</td>\n",
       "      <td>0</td>\n",
       "      <td>0</td>\n",
       "      <td>0</td>\n",
       "      <td>0</td>\n",
       "      <td>0</td>\n",
       "      <td>0</td>\n",
       "      <td>0</td>\n",
       "    </tr>\n",
       "    <tr>\n",
       "      <th>712</th>\n",
       "      <td>0</td>\n",
       "      <td>0</td>\n",
       "      <td>0</td>\n",
       "      <td>0</td>\n",
       "      <td>0</td>\n",
       "      <td>0</td>\n",
       "      <td>0</td>\n",
       "      <td>0</td>\n",
       "      <td>0</td>\n",
       "      <td>1</td>\n",
       "      <td>0</td>\n",
       "      <td>0</td>\n",
       "      <td>0</td>\n",
       "    </tr>\n",
       "    <tr>\n",
       "      <th>713</th>\n",
       "      <td>0</td>\n",
       "      <td>0</td>\n",
       "      <td>0</td>\n",
       "      <td>0</td>\n",
       "      <td>0</td>\n",
       "      <td>0</td>\n",
       "      <td>0</td>\n",
       "      <td>0</td>\n",
       "      <td>0</td>\n",
       "      <td>1</td>\n",
       "      <td>0</td>\n",
       "      <td>0</td>\n",
       "      <td>0</td>\n",
       "    </tr>\n",
       "    <tr>\n",
       "      <th>714</th>\n",
       "      <td>0</td>\n",
       "      <td>0</td>\n",
       "      <td>0</td>\n",
       "      <td>0</td>\n",
       "      <td>0</td>\n",
       "      <td>1</td>\n",
       "      <td>0</td>\n",
       "      <td>0</td>\n",
       "      <td>0</td>\n",
       "      <td>0</td>\n",
       "      <td>0</td>\n",
       "      <td>0</td>\n",
       "      <td>0</td>\n",
       "    </tr>\n",
       "    <tr>\n",
       "      <th>715</th>\n",
       "      <td>0</td>\n",
       "      <td>0</td>\n",
       "      <td>0</td>\n",
       "      <td>0</td>\n",
       "      <td>0</td>\n",
       "      <td>1</td>\n",
       "      <td>0</td>\n",
       "      <td>0</td>\n",
       "      <td>0</td>\n",
       "      <td>0</td>\n",
       "      <td>0</td>\n",
       "      <td>0</td>\n",
       "      <td>0</td>\n",
       "    </tr>\n",
       "  </tbody>\n",
       "</table>\n",
       "</div>"
      ],
      "text/plain": [
       "        Amorphous  Bug  Dragon  Fairy  Field  Flying  Grass  Human-Like  \\\n",
       "Number                                                                    \n",
       "706             0    0       1      0      0       0      0           0   \n",
       "707             0    0       0      0      0       0      0           0   \n",
       "708             1    0       0      0      0       0      1           0   \n",
       "709             1    0       0      0      0       0      1           0   \n",
       "710             1    0       0      0      0       0      0           0   \n",
       "711             1    0       0      0      0       0      0           0   \n",
       "712             0    0       0      0      0       0      0           0   \n",
       "713             0    0       0      0      0       0      0           0   \n",
       "714             0    0       0      0      0       1      0           0   \n",
       "715             0    0       0      0      0       1      0           0   \n",
       "\n",
       "        Mineral  Monster  Water_1  Water_2  Water_3  \n",
       "Number                                               \n",
       "706           0        0        0        0        0  \n",
       "707           1        0        0        0        0  \n",
       "708           0        0        0        0        0  \n",
       "709           0        0        0        0        0  \n",
       "710           0        0        0        0        0  \n",
       "711           0        0        0        0        0  \n",
       "712           0        1        0        0        0  \n",
       "713           0        1        0        0        0  \n",
       "714           0        0        0        0        0  \n",
       "715           0        0        0        0        0  "
      ]
     },
     "execution_count": 28,
     "metadata": {},
     "output_type": "execute_result"
    }
   ],
   "source": [
    "colorMatrix     = df_w2.Color.str.get_dummies()\n",
    "bodyStyleMatrix = df_w2.Body_Style.str.get_dummies()\n",
    "\n",
    "eggG1Matrix = df_w2.Egg_Group_1.str.get_dummies()\n",
    "eggG2Matrix = df_w2.Egg_Group_2.str.get_dummies()\n",
    "\n",
    "eggMatrix = eggG1Matrix + eggG2Matrix\n",
    "eggMatrix = eggMatrix.drop( ['Ditto', 'Undiscovered'], axis=1)\n",
    "eggMatrix.tail(10)"
   ]
  },
  {
   "cell_type": "code",
   "execution_count": 29,
   "metadata": {},
   "outputs": [
    {
     "data": {
      "text/html": [
       "<div>\n",
       "<style>\n",
       "    .dataframe thead tr:only-child th {\n",
       "        text-align: right;\n",
       "    }\n",
       "\n",
       "    .dataframe thead th {\n",
       "        text-align: left;\n",
       "    }\n",
       "\n",
       "    .dataframe tbody tr th {\n",
       "        vertical-align: top;\n",
       "    }\n",
       "</style>\n",
       "<table border=\"1\" class=\"dataframe\">\n",
       "  <thead>\n",
       "    <tr style=\"text-align: right;\">\n",
       "      <th></th>\n",
       "      <th>Water</th>\n",
       "      <th>Black</th>\n",
       "      <th>Blue</th>\n",
       "      <th>Brown</th>\n",
       "      <th>Green</th>\n",
       "      <th>Grey</th>\n",
       "      <th>Pink</th>\n",
       "      <th>Purple</th>\n",
       "      <th>Red</th>\n",
       "      <th>White</th>\n",
       "      <th>...</th>\n",
       "      <th>head_base</th>\n",
       "      <th>head_legs</th>\n",
       "      <th>head_only</th>\n",
       "      <th>insectoid</th>\n",
       "      <th>multiple_bodies</th>\n",
       "      <th>quadruped</th>\n",
       "      <th>serpentine_body</th>\n",
       "      <th>several_limbs</th>\n",
       "      <th>two_wings</th>\n",
       "      <th>with_fins</th>\n",
       "    </tr>\n",
       "    <tr>\n",
       "      <th>Number</th>\n",
       "      <th></th>\n",
       "      <th></th>\n",
       "      <th></th>\n",
       "      <th></th>\n",
       "      <th></th>\n",
       "      <th></th>\n",
       "      <th></th>\n",
       "      <th></th>\n",
       "      <th></th>\n",
       "      <th></th>\n",
       "      <th></th>\n",
       "      <th></th>\n",
       "      <th></th>\n",
       "      <th></th>\n",
       "      <th></th>\n",
       "      <th></th>\n",
       "      <th></th>\n",
       "      <th></th>\n",
       "      <th></th>\n",
       "      <th></th>\n",
       "      <th></th>\n",
       "    </tr>\n",
       "  </thead>\n",
       "  <tbody>\n",
       "    <tr>\n",
       "      <th>1</th>\n",
       "      <td>0</td>\n",
       "      <td>0</td>\n",
       "      <td>0</td>\n",
       "      <td>0</td>\n",
       "      <td>1</td>\n",
       "      <td>0</td>\n",
       "      <td>0</td>\n",
       "      <td>0</td>\n",
       "      <td>0</td>\n",
       "      <td>0</td>\n",
       "      <td>...</td>\n",
       "      <td>0</td>\n",
       "      <td>0</td>\n",
       "      <td>0</td>\n",
       "      <td>0</td>\n",
       "      <td>0</td>\n",
       "      <td>1</td>\n",
       "      <td>0</td>\n",
       "      <td>0</td>\n",
       "      <td>0</td>\n",
       "      <td>0</td>\n",
       "    </tr>\n",
       "    <tr>\n",
       "      <th>2</th>\n",
       "      <td>0</td>\n",
       "      <td>0</td>\n",
       "      <td>0</td>\n",
       "      <td>0</td>\n",
       "      <td>1</td>\n",
       "      <td>0</td>\n",
       "      <td>0</td>\n",
       "      <td>0</td>\n",
       "      <td>0</td>\n",
       "      <td>0</td>\n",
       "      <td>...</td>\n",
       "      <td>0</td>\n",
       "      <td>0</td>\n",
       "      <td>0</td>\n",
       "      <td>0</td>\n",
       "      <td>0</td>\n",
       "      <td>1</td>\n",
       "      <td>0</td>\n",
       "      <td>0</td>\n",
       "      <td>0</td>\n",
       "      <td>0</td>\n",
       "    </tr>\n",
       "    <tr>\n",
       "      <th>3</th>\n",
       "      <td>0</td>\n",
       "      <td>0</td>\n",
       "      <td>0</td>\n",
       "      <td>0</td>\n",
       "      <td>1</td>\n",
       "      <td>0</td>\n",
       "      <td>0</td>\n",
       "      <td>0</td>\n",
       "      <td>0</td>\n",
       "      <td>0</td>\n",
       "      <td>...</td>\n",
       "      <td>0</td>\n",
       "      <td>0</td>\n",
       "      <td>0</td>\n",
       "      <td>0</td>\n",
       "      <td>0</td>\n",
       "      <td>1</td>\n",
       "      <td>0</td>\n",
       "      <td>0</td>\n",
       "      <td>0</td>\n",
       "      <td>0</td>\n",
       "    </tr>\n",
       "    <tr>\n",
       "      <th>4</th>\n",
       "      <td>0</td>\n",
       "      <td>0</td>\n",
       "      <td>0</td>\n",
       "      <td>0</td>\n",
       "      <td>0</td>\n",
       "      <td>0</td>\n",
       "      <td>0</td>\n",
       "      <td>0</td>\n",
       "      <td>1</td>\n",
       "      <td>0</td>\n",
       "      <td>...</td>\n",
       "      <td>0</td>\n",
       "      <td>0</td>\n",
       "      <td>0</td>\n",
       "      <td>0</td>\n",
       "      <td>0</td>\n",
       "      <td>0</td>\n",
       "      <td>0</td>\n",
       "      <td>0</td>\n",
       "      <td>0</td>\n",
       "      <td>0</td>\n",
       "    </tr>\n",
       "    <tr>\n",
       "      <th>5</th>\n",
       "      <td>0</td>\n",
       "      <td>0</td>\n",
       "      <td>0</td>\n",
       "      <td>0</td>\n",
       "      <td>0</td>\n",
       "      <td>0</td>\n",
       "      <td>0</td>\n",
       "      <td>0</td>\n",
       "      <td>1</td>\n",
       "      <td>0</td>\n",
       "      <td>...</td>\n",
       "      <td>0</td>\n",
       "      <td>0</td>\n",
       "      <td>0</td>\n",
       "      <td>0</td>\n",
       "      <td>0</td>\n",
       "      <td>0</td>\n",
       "      <td>0</td>\n",
       "      <td>0</td>\n",
       "      <td>0</td>\n",
       "      <td>0</td>\n",
       "    </tr>\n",
       "  </tbody>\n",
       "</table>\n",
       "<p>5 rows × 38 columns</p>\n",
       "</div>"
      ],
      "text/plain": [
       "        Water  Black  Blue  Brown  Green  Grey  Pink  Purple  Red  White  \\\n",
       "Number                                                                     \n",
       "1           0      0     0      0      1     0     0       0    0      0   \n",
       "2           0      0     0      0      1     0     0       0    0      0   \n",
       "3           0      0     0      0      1     0     0       0    0      0   \n",
       "4           0      0     0      0      0     0     0       0    1      0   \n",
       "5           0      0     0      0      0     0     0       0    1      0   \n",
       "\n",
       "          ...      head_base  head_legs  head_only  insectoid  \\\n",
       "Number    ...                                                   \n",
       "1         ...              0          0          0          0   \n",
       "2         ...              0          0          0          0   \n",
       "3         ...              0          0          0          0   \n",
       "4         ...              0          0          0          0   \n",
       "5         ...              0          0          0          0   \n",
       "\n",
       "        multiple_bodies  quadruped  serpentine_body  several_limbs  two_wings  \\\n",
       "Number                                                                          \n",
       "1                     0          1                0              0          0   \n",
       "2                     0          1                0              0          0   \n",
       "3                     0          1                0              0          0   \n",
       "4                     0          0                0              0          0   \n",
       "5                     0          0                0              0          0   \n",
       "\n",
       "        with_fins  \n",
       "Number             \n",
       "1               0  \n",
       "2               0  \n",
       "3               0  \n",
       "4               0  \n",
       "5               0  \n",
       "\n",
       "[5 rows x 38 columns]"
      ]
     },
     "execution_count": 29,
     "metadata": {},
     "output_type": "execute_result"
    }
   ],
   "source": [
    "dfList = [ df_water['Water'], colorMatrix, eggMatrix, bodyStyleMatrix]\n",
    "df_w2  = pd.concat( dfList, axis=1)\n",
    "df_w2.head()"
   ]
  },
  {
   "cell_type": "code",
   "execution_count": 30,
   "metadata": {},
   "outputs": [
    {
     "name": "stdout",
     "output_type": "stream",
     "text": [
      "Accuracy of model = 0.938\n"
     ]
    },
    {
     "data": {
      "image/png": "[encoded data removed]",
      "text/plain": [
       "<matplotlib.figure.Figure at 0x7f76f27bbf90>"
      ]
     },
     "metadata": {},
     "output_type": "display_data"
    },
    {
     "name": "stdout",
     "output_type": "stream",
     "text": [
      "Summary metrics for Logistic Regression: \n",
      "              precision    recall  f1-score   support\n",
      "\n",
      "          0       0.99      0.98      0.98       278\n",
      "          1       0.90      0.93      0.92        60\n",
      "\n",
      "avg / total       0.97      0.97      0.97       338\n",
      "\n"
     ]
    }
   ],
   "source": [
    "columnIdx = df_w2.columns\n",
    "features  = df_w2[ columnIdx[1:]]\n",
    "typeWater = df_w2['Water']\n",
    "\n",
    "# gridsearch estimator\n",
    "pipe = Pipeline( steps=[( 'clfLog', LogisticRegression())] )\n",
    "estimator = GridSearchCV( pipe,\n",
    "                         dict( clfLog__C=np.logspace(-4, 4, 5)) )\n",
    "\n",
    "estimator.fit( features, typeWater)\n",
    "print 'Accuracy of model = %.3f'  % estimator.best_score_\n",
    "\n",
    "clfLog_coef = estimator.best_estimator_.named_steps['clfLog'].coef_[0]\n",
    "features.columns\n",
    "sns.set_style(\"whitegrid\")\n",
    "sns.barplot( x=features.columns, y=abs(clfLog_coef))\n",
    "plt.xticks(rotation=90);\n",
    "plt.ylabel('Magnitude of Regression Coefficients')\n",
    "plt.show()\n",
    "\n",
    "# get best performing model from estimator\n",
    "clf_log = estimator.best_estimator_\n",
    "# Make training and test data sets so that we can produce a classification report.\n",
    "X_train, X_test, y_train, y_test = train_test_split( features, typeWater, test_size=0.50, random_state=11)\n",
    "y_predict = clf_log.predict( X_test)\n",
    "print 'Summary metrics for Logistic Regression: \\n %s' \\\n",
    "        % metrics.classification_report( y_test, y_predict)"
   ]
  },
  {
   "cell_type": "markdown",
   "metadata": {},
   "source": [
    "We see that using the phyiscal characteristics of `Color`, `Egg_Group1`, `Egg_Group2` and `Body_Style` is much more effective at predicting type than using the battle attributes."
   ]
  },
  {
   "cell_type": "code",
   "execution_count": 31,
   "metadata": {},
   "outputs": [
    {
     "data": {
      "text/plain": [
       "<matplotlib.axes._subplots.AxesSubplot at 0x7f76f273c2d0>"
      ]
     },
     "execution_count": 31,
     "metadata": {},
     "output_type": "execute_result"
    },
    {
     "data": {
      "image/png": "[encoded data removed]",
      "text/plain": [
       "<matplotlib.figure.Figure at 0x7f76f29fe090>"
      ]
     },
     "metadata": {},
     "output_type": "display_data"
    }
   ],
   "source": [
    "df_cm = pd.DataFrame( metrics.confusion_matrix( y_test,  y_predict),\n",
    "                     index=[ 'Not Water', 'Water'], columns=[ 'Not Water', 'Water'])\n",
    "plt.figure(figsize = (5,4))\n",
    "sns.heatmap(df_cm, annot=True)"
   ]
  },
  {
   "cell_type": "code",
   "execution_count": null,
   "metadata": {
    "collapsed": true
   },
   "outputs": [],
   "source": []
  },
  {
   "cell_type": "code",
   "execution_count": null,
   "metadata": {
    "collapsed": true
   },
   "outputs": [],
   "source": []
  }
 ],
 "metadata": {
  "kernelspec": {
   "display_name": "Python 2",
   "language": "python",
   "name": "python2"
  },
  "language_info": {
   "codemirror_mode": {
    "name": "ipython",
    "version": 2
   },
   "file_extension": ".py",
   "mimetype": "text/x-python",
   "name": "python",
   "nbconvert_exporter": "python",
   "pygments_lexer": "ipython2",
   "version": "2.7.13"
  }
 },
 "nbformat": 4,
 "nbformat_minor": 2
}
